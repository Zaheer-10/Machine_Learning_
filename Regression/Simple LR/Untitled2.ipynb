{
 "cells": [
  {
   "cell_type": "code",
   "execution_count": 3,
   "id": "f8f36e8f-2d2c-48de-8b99-a1e73f406213",
   "metadata": {},
   "outputs": [],
   "source": [
    "from sklearn.datasets import make_regression\n",
    "import pandas as pd\n",
    "import numpy as np\n",
    "import plotly.express as px\n",
    "# import plotly.graph_objetcs as go\n",
    "from plotly import graph_objs as go\n",
    "\n",
    "from sklearn.metrics import mean_absolute_error , mean_squared_error , r2_score"
   ]
  },
  {
   "cell_type": "code",
   "execution_count": null,
   "id": "a1f6b952-7cb8-4eaf-bca5-3be68c00a1f1",
   "metadata": {},
   "outputs": [],
   "source": [
    "# pip install plotly"
   ]
  },
  {
   "cell_type": "code",
   "execution_count": 6,
   "id": "1e189754-512d-409e-8d86-b8eb58c97d1f",
   "metadata": {},
   "outputs": [],
   "source": [
    "X,y = make_regression (n_samples = 100 , n_features = 2 , n_informative= 2 , n_targets = 1 , noise = 50 )"
   ]
  },
  {
   "cell_type": "code",
   "execution_count": null,
   "id": "7d118609-976c-47b9-8c5b-f2b758aaa04d",
   "metadata": {},
   "outputs": [],
   "source": [
    "df = pd.DataFrame('feature1' : X[ : ,0]) , 'feature2' : x[: , 1] , 'target' : y })"
   ]
  }
 ],
 "metadata": {
  "kernelspec": {
   "display_name": "Python 3 (ipykernel)",
   "language": "python",
   "name": "python3"
  },
  "language_info": {
   "codemirror_mode": {
    "name": "ipython",
    "version": 3
   },
   "file_extension": ".py",
   "mimetype": "text/x-python",
   "name": "python",
   "nbconvert_exporter": "python",
   "pygments_lexer": "ipython3",
   "version": "3.10.9"
  }
 },
 "nbformat": 4,
 "nbformat_minor": 5
}
