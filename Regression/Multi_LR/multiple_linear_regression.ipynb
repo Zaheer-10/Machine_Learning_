{
 "cells": [
  {
   "cell_type": "code",
   "execution_count": 59,
   "metadata": {
    "id": "dd82LHwLmpkF"
   },
   "outputs": [],
   "source": [
    "from sklearn.datasets import make_regression\n",
    "import pandas as pd\n",
    "import numpy as np\n",
    "\n",
    "import plotly.express as px\n",
    "import plotly.graph_objects as go\n",
    "\n",
    "from sklearn.metrics import mean_absolute_error,mean_squared_error,r2_score"
   ]
  },
  {
   "cell_type": "code",
   "execution_count": 60,
   "metadata": {
    "id": "o-kkwl10m9Ef"
   },
   "outputs": [],
   "source": [
    "X,y = make_regression(n_samples=100, n_features=2, n_informative=2, n_targets=1, noise=50)"
   ]
  },
  {
   "cell_type": "code",
   "execution_count": 61,
   "metadata": {
    "id": "hf4eEtH5nNZC"
   },
   "outputs": [],
   "source": [
    "df = pd.DataFrame({'feature1':X[:,0],'feature2':X[:,1],'target':y})"
   ]
  },
  {
   "cell_type": "code",
   "execution_count": 62,
   "metadata": {
    "colab": {
     "base_uri": "https://localhost:8080/"
    },
    "id": "hfz-7c5pmmOw",
    "outputId": "9646626b-f408-4a07-9226-2b2732ee146d"
   },
   "outputs": [
    {
     "data": {
      "text/plain": [
       "(100, 3)"
      ]
     },
     "execution_count": 62,
     "metadata": {},
     "output_type": "execute_result"
    }
   ],
   "source": [
    "df.shape"
   ]
  },
  {
   "cell_type": "code",
   "execution_count": 63,
   "metadata": {
    "colab": {
     "base_uri": "https://localhost:8080/",
     "height": 198
    },
    "id": "01dAHVqsAuDp",
    "outputId": "25391891-4520-4c67-bead-4a0fa44c9784"
   },
   "outputs": [
    {
     "data": {
      "text/html": [
       "<div>\n",
       "<style scoped>\n",
       "    .dataframe tbody tr th:only-of-type {\n",
       "        vertical-align: middle;\n",
       "    }\n",
       "\n",
       "    .dataframe tbody tr th {\n",
       "        vertical-align: top;\n",
       "    }\n",
       "\n",
       "    .dataframe thead th {\n",
       "        text-align: right;\n",
       "    }\n",
       "</style>\n",
       "<table border=\"1\" class=\"dataframe\">\n",
       "  <thead>\n",
       "    <tr style=\"text-align: right;\">\n",
       "      <th></th>\n",
       "      <th>feature1</th>\n",
       "      <th>feature2</th>\n",
       "      <th>target</th>\n",
       "    </tr>\n",
       "  </thead>\n",
       "  <tbody>\n",
       "    <tr>\n",
       "      <th>0</th>\n",
       "      <td>1.004988</td>\n",
       "      <td>1.630692</td>\n",
       "      <td>170.429133</td>\n",
       "    </tr>\n",
       "    <tr>\n",
       "      <th>1</th>\n",
       "      <td>1.338115</td>\n",
       "      <td>0.157763</td>\n",
       "      <td>118.572953</td>\n",
       "    </tr>\n",
       "    <tr>\n",
       "      <th>2</th>\n",
       "      <td>1.106030</td>\n",
       "      <td>-0.431592</td>\n",
       "      <td>-9.866659</td>\n",
       "    </tr>\n",
       "    <tr>\n",
       "      <th>3</th>\n",
       "      <td>-0.119942</td>\n",
       "      <td>-0.527377</td>\n",
       "      <td>-71.926788</td>\n",
       "    </tr>\n",
       "    <tr>\n",
       "      <th>4</th>\n",
       "      <td>1.059447</td>\n",
       "      <td>0.047284</td>\n",
       "      <td>181.140723</td>\n",
       "    </tr>\n",
       "  </tbody>\n",
       "</table>\n",
       "</div>"
      ],
      "text/plain": [
       "   feature1  feature2      target\n",
       "0  1.004988  1.630692  170.429133\n",
       "1  1.338115  0.157763  118.572953\n",
       "2  1.106030 -0.431592   -9.866659\n",
       "3 -0.119942 -0.527377  -71.926788\n",
       "4  1.059447  0.047284  181.140723"
      ]
     },
     "execution_count": 63,
     "metadata": {},
     "output_type": "execute_result"
    }
   ],
   "source": [
    "df.head()"
   ]
  },
  {
   "cell_type": "code",
   "execution_count": 64,
   "metadata": {
    "colab": {
     "base_uri": "https://localhost:8080/",
     "height": 542
    },
    "id": "kvlFl8W1Bn5p",
    "outputId": "648a7b07-560f-4e7f-821c-607d8ff6a0dc"
   },
   "outputs": [
    {
     "data": {
      "application/vnd.plotly.v1+json": {
       "config": {
        "plotlyServerURL": "https://plot.ly"
       },
       "data": [
        {
         "hovertemplate": "feature1=%{x}<br>feature2=%{y}<br>target=%{z}<extra></extra>",
         "legendgroup": "",
         "marker": {
          "color": "#636efa",
          "symbol": "circle"
         },
         "mode": "markers",
         "name": "",
         "scene": "scene",
         "showlegend": false,
         "type": "scatter3d",
         "x": [
          1.0049884979102934,
          1.3381151487666827,
          1.1060295580267034,
          -0.1199421278162053,
          1.0594469493969807,
          1.3864307207496616,
          -0.3999536234496911,
          0.5593929819633274,
          -0.24295393225363776,
          0.7476448867407703,
          0.9555460251312056,
          -0.420527491308634,
          0.7556341021040245,
          0.5453166704740124,
          -1.3834488566633898,
          1.25390145627475,
          -0.2214380269335202,
          1.6918866546039641,
          0.5990291647855681,
          1.890443125560766,
          -0.437323332200744,
          0.542072227047971,
          2.267816811576371,
          0.3722846772983979,
          0.8612561247061813,
          0.11315053845233453,
          -0.7795165496657225,
          -0.5074507405027577,
          0.12289084016062676,
          -0.21610409473938677,
          1.0319514203292082,
          1.7935336707291216,
          -0.28447796495475725,
          -0.4691918587870412,
          0.8940902588191615,
          -1.528359406854796,
          -1.563619456266562,
          0.6151902299094384,
          -0.9063775300452546,
          -1.2410493136683354,
          -2.158185895759363,
          -1.4460819375756289,
          0.9600413927980754,
          1.4203495140832674,
          -0.8024548877873725,
          -0.8227380857186661,
          0.9261459212035833,
          -1.35053868653961,
          -0.5492097803592388,
          -0.7388609452788539,
          -0.16472832104826432,
          -0.08443546992565545,
          0.7237611467839222,
          -0.12813557647171528,
          0.19554757543889317,
          2.067198583668623,
          -0.14169485294885878,
          -0.7273415039344804,
          1.1713501943583005,
          -0.7519587045163647,
          -0.7142008807107634,
          -0.11890160416211128,
          1.3112714484851258,
          -0.945354238984346,
          -2.3719462793481814,
          -1.291295036199262,
          0.5409722499750879,
          -0.5801107678679549,
          -0.8260509224532349,
          -0.40778426125905054,
          1.1301146362480097,
          -0.8946983158085063,
          -1.4049134087697575,
          -1.4920213765006776,
          -1.5044478171689444,
          -1.6407369829749359,
          -0.22999282858853917,
          0.09211482280667291,
          -0.03243577320510026,
          0.08499614311704577,
          0.017289461871653537,
          -1.4759792899773094,
          -0.451760632266823,
          0.07835994618568325,
          -0.10569352108186487,
          0.5813169985367249,
          0.0037460733460772944,
          0.4210487463736586,
          0.5387753127002619,
          0.6433185652710519,
          -0.17214196477048951,
          1.8635989968531412,
          1.3833859552833119,
          1.4708045541678354,
          -0.2578070083294541,
          -0.17149383647702346,
          1.0003019539939983,
          0.4118200688158286,
          -1.0870307802378352,
          0.0048905590528915376
         ],
         "y": [
          1.6306922677168567,
          0.15776341786192077,
          -0.4315923337845563,
          -0.5273770502489823,
          0.04728427056690038,
          0.777702944884017,
          0.06840807879798594,
          -0.822176005366966,
          -0.7410457549165759,
          0.7453663696302633,
          0.42099906240634255,
          -0.4897250752527722,
          1.2146286286044607,
          -1.501132321214499,
          -0.13592072561936028,
          -0.0287181145067554,
          -0.5566413777632078,
          1.6789573157988646,
          -3.3666327637333975,
          -0.6918662443609727,
          -1.4280241458991156,
          0.7303418421345954,
          -0.8025840190857594,
          -0.1440982231013727,
          0.6505678588222775,
          0.26205050335378843,
          1.3448955996013736,
          -0.6326495584423955,
          2.417563444242384,
          -0.7189648439917433,
          0.9159620068083497,
          -0.05269816882078061,
          0.8767163181532749,
          -0.5964020802061551,
          1.5500137559392897,
          -0.02582052002482465,
          0.39810944985607105,
          0.7688615041443161,
          0.10358847729202467,
          1.4115139602854894,
          0.8847351276823553,
          0.14490586207987352,
          -0.19996243384067902,
          0.033128525026269076,
          0.8777673797137127,
          0.9759796784185176,
          -0.10083993445708729,
          0.633303828688496,
          -0.2664201310595014,
          -0.5352940798889892,
          -2.8382913491443333,
          0.8521266615239709,
          0.4886692577841056,
          1.2647575624257268,
          -1.0284361176348744,
          1.1400685946789813,
          1.1940339230727697,
          -0.4166603245796782,
          0.34185901566784416,
          -0.44987780701157803,
          0.32552005912928966,
          -0.4096488735876434,
          0.9374417881316793,
          -0.6645108901966568,
          -1.0572749203759795,
          -0.6053641275151694,
          1.7599318777647526,
          -0.7924406971450773,
          1.9754043048909844,
          0.31672880093360284,
          -0.5944979231276727,
          -1.1128915605605045,
          -1.1995458718869736,
          -0.9216296924753127,
          -0.6449413321367947,
          0.9314448703874697,
          2.1780295145947806,
          -0.6519176251104043,
          0.05793406763024523,
          -0.28638388343755733,
          1.002353303944931,
          0.5892668787624792,
          0.9468110001608988,
          -0.2572388864158428,
          0.4308342181296319,
          0.3068701197715133,
          0.2001521190838508,
          0.09894706588145333,
          -0.5583694212881238,
          0.4464040842157458,
          -1.6709336788194311,
          0.026628571128061364,
          -0.5722901417629366,
          0.15168195227216885,
          -1.795382603491215,
          1.0362106661924388,
          -1.513517555066088,
          1.0032788806420108,
          -0.11803819564202794,
          -0.007993142120521667
         ],
         "z": [
          170.4291331395732,
          118.5729525361102,
          -9.866659345765711,
          -71.92678821482221,
          181.14072260955828,
          69.8282191620433,
          -37.617630630505936,
          4.994506294057018,
          9.253410674440978,
          83.15096386277818,
          145.7062126910099,
          -18.178649791434182,
          157.8510339408411,
          -15.270314581669483,
          -156.00045290644496,
          150.09874134622666,
          -21.714171356522666,
          299.31931994297446,
          -56.66587601147589,
          63.335528923741165,
          -130.31536505747928,
          108.53906285036356,
          153.1120782793787,
          -4.513771950713156,
          -2.8607476861141947,
          24.884531374255438,
          -93.09196211442597,
          -33.2274713934538,
          45.39700868101227,
          6.1060776230295275,
          61.801769974702594,
          235.8465899993606,
          24.01126183907557,
          -145.45411153887045,
          71.49073643851918,
          -107.31790543509135,
          -131.70734698406625,
          34.333592737580595,
          -34.419604748002854,
          -46.83699323073496,
          -204.97771924621483,
          -135.12125875450394,
          137.47993472666357,
          116.78023348730042,
          -41.35903006035429,
          -94.71876961944837,
          143.90274860551338,
          -125.56516812410686,
          -91.936307292718,
          -133.76410774455144,
          -72.68335180169163,
          3.079698469536371,
          40.671001299273925,
          76.3870700536086,
          -5.905986652706735,
          298.7294521417748,
          -8.037291376594307,
          -139.31736620131954,
          187.9404336546216,
          -94.2957885048059,
          -5.379714158637086,
          -18.361909493768305,
          139.72160890286406,
          -80.14819825583552,
          -300.3288337707688,
          -147.44888430553019,
          143.6384370283025,
          -57.31860375068868,
          23.61747194631156,
          -50.607261755402774,
          105.21117290576798,
          -169.84578540123147,
          -193.31349848040367,
          -141.61644311573966,
          -134.04378853766434,
          -113.37222770238361,
          47.89582807467609,
          0.649466559798455,
          20.038239930984048,
          -59.44610783641363,
          21.558785518722104,
          -162.09535173454267,
          3.5014226502721346,
          -40.14920507035279,
          43.77983891871369,
          100.30757473560661,
          16.004059489009997,
          101.98203022013028,
          14.303070542034344,
          156.0850659961179,
          -50.83680240758642,
          132.24360496131246,
          78.48111494147672,
          167.44445856013766,
          -44.817610322736506,
          -44.363078778510314,
          -7.906560842550121,
          129.16984273177692,
          -167.20425558701794,
          34.63843231092544
         ]
        }
       ],
       "layout": {
        "autosize": true,
        "legend": {
         "tracegroupgap": 0
        },
        "margin": {
         "t": 60
        },
        "scene": {
         "aspectmode": "auto",
         "aspectratio": {
          "x": 1,
          "y": 1,
          "z": 1
         },
         "camera": {
          "center": {
           "x": 0,
           "y": 0,
           "z": 0
          },
          "eye": {
           "x": 0.1800778223478039,
           "y": 0.31209995418683173,
           "z": 0.6736743664846269
          },
          "projection": {
           "type": "perspective"
          },
          "up": {
           "x": 0,
           "y": 0,
           "z": 1
          }
         },
         "domain": {
          "x": [
           0,
           1
          ],
          "y": [
           0,
           1
          ]
         },
         "xaxis": {
          "title": {
           "text": "feature1"
          },
          "type": "linear"
         },
         "yaxis": {
          "title": {
           "text": "feature2"
          },
          "type": "linear"
         },
         "zaxis": {
          "title": {
           "text": "target"
          },
          "type": "linear"
         }
        },
        "template": {
         "data": {
          "bar": [
           {
            "error_x": {
             "color": "#2a3f5f"
            },
            "error_y": {
             "color": "#2a3f5f"
            },
            "marker": {
             "line": {
              "color": "#E5ECF6",
              "width": 0.5
             },
             "pattern": {
              "fillmode": "overlay",
              "size": 10,
              "solidity": 0.2
             }
            },
            "type": "bar"
           }
          ],
          "barpolar": [
           {
            "marker": {
             "line": {
              "color": "#E5ECF6",
              "width": 0.5
             },
             "pattern": {
              "fillmode": "overlay",
              "size": 10,
              "solidity": 0.2
             }
            },
            "type": "barpolar"
           }
          ],
          "carpet": [
           {
            "aaxis": {
             "endlinecolor": "#2a3f5f",
             "gridcolor": "white",
             "linecolor": "white",
             "minorgridcolor": "white",
             "startlinecolor": "#2a3f5f"
            },
            "baxis": {
             "endlinecolor": "#2a3f5f",
             "gridcolor": "white",
             "linecolor": "white",
             "minorgridcolor": "white",
             "startlinecolor": "#2a3f5f"
            },
            "type": "carpet"
           }
          ],
          "choropleth": [
           {
            "colorbar": {
             "outlinewidth": 0,
             "ticks": ""
            },
            "type": "choropleth"
           }
          ],
          "contour": [
           {
            "colorbar": {
             "outlinewidth": 0,
             "ticks": ""
            },
            "colorscale": [
             [
              0,
              "#0d0887"
             ],
             [
              0.1111111111111111,
              "#46039f"
             ],
             [
              0.2222222222222222,
              "#7201a8"
             ],
             [
              0.3333333333333333,
              "#9c179e"
             ],
             [
              0.4444444444444444,
              "#bd3786"
             ],
             [
              0.5555555555555556,
              "#d8576b"
             ],
             [
              0.6666666666666666,
              "#ed7953"
             ],
             [
              0.7777777777777778,
              "#fb9f3a"
             ],
             [
              0.8888888888888888,
              "#fdca26"
             ],
             [
              1,
              "#f0f921"
             ]
            ],
            "type": "contour"
           }
          ],
          "contourcarpet": [
           {
            "colorbar": {
             "outlinewidth": 0,
             "ticks": ""
            },
            "type": "contourcarpet"
           }
          ],
          "heatmap": [
           {
            "colorbar": {
             "outlinewidth": 0,
             "ticks": ""
            },
            "colorscale": [
             [
              0,
              "#0d0887"
             ],
             [
              0.1111111111111111,
              "#46039f"
             ],
             [
              0.2222222222222222,
              "#7201a8"
             ],
             [
              0.3333333333333333,
              "#9c179e"
             ],
             [
              0.4444444444444444,
              "#bd3786"
             ],
             [
              0.5555555555555556,
              "#d8576b"
             ],
             [
              0.6666666666666666,
              "#ed7953"
             ],
             [
              0.7777777777777778,
              "#fb9f3a"
             ],
             [
              0.8888888888888888,
              "#fdca26"
             ],
             [
              1,
              "#f0f921"
             ]
            ],
            "type": "heatmap"
           }
          ],
          "heatmapgl": [
           {
            "colorbar": {
             "outlinewidth": 0,
             "ticks": ""
            },
            "colorscale": [
             [
              0,
              "#0d0887"
             ],
             [
              0.1111111111111111,
              "#46039f"
             ],
             [
              0.2222222222222222,
              "#7201a8"
             ],
             [
              0.3333333333333333,
              "#9c179e"
             ],
             [
              0.4444444444444444,
              "#bd3786"
             ],
             [
              0.5555555555555556,
              "#d8576b"
             ],
             [
              0.6666666666666666,
              "#ed7953"
             ],
             [
              0.7777777777777778,
              "#fb9f3a"
             ],
             [
              0.8888888888888888,
              "#fdca26"
             ],
             [
              1,
              "#f0f921"
             ]
            ],
            "type": "heatmapgl"
           }
          ],
          "histogram": [
           {
            "marker": {
             "pattern": {
              "fillmode": "overlay",
              "size": 10,
              "solidity": 0.2
             }
            },
            "type": "histogram"
           }
          ],
          "histogram2d": [
           {
            "colorbar": {
             "outlinewidth": 0,
             "ticks": ""
            },
            "colorscale": [
             [
              0,
              "#0d0887"
             ],
             [
              0.1111111111111111,
              "#46039f"
             ],
             [
              0.2222222222222222,
              "#7201a8"
             ],
             [
              0.3333333333333333,
              "#9c179e"
             ],
             [
              0.4444444444444444,
              "#bd3786"
             ],
             [
              0.5555555555555556,
              "#d8576b"
             ],
             [
              0.6666666666666666,
              "#ed7953"
             ],
             [
              0.7777777777777778,
              "#fb9f3a"
             ],
             [
              0.8888888888888888,
              "#fdca26"
             ],
             [
              1,
              "#f0f921"
             ]
            ],
            "type": "histogram2d"
           }
          ],
          "histogram2dcontour": [
           {
            "colorbar": {
             "outlinewidth": 0,
             "ticks": ""
            },
            "colorscale": [
             [
              0,
              "#0d0887"
             ],
             [
              0.1111111111111111,
              "#46039f"
             ],
             [
              0.2222222222222222,
              "#7201a8"
             ],
             [
              0.3333333333333333,
              "#9c179e"
             ],
             [
              0.4444444444444444,
              "#bd3786"
             ],
             [
              0.5555555555555556,
              "#d8576b"
             ],
             [
              0.6666666666666666,
              "#ed7953"
             ],
             [
              0.7777777777777778,
              "#fb9f3a"
             ],
             [
              0.8888888888888888,
              "#fdca26"
             ],
             [
              1,
              "#f0f921"
             ]
            ],
            "type": "histogram2dcontour"
           }
          ],
          "mesh3d": [
           {
            "colorbar": {
             "outlinewidth": 0,
             "ticks": ""
            },
            "type": "mesh3d"
           }
          ],
          "parcoords": [
           {
            "line": {
             "colorbar": {
              "outlinewidth": 0,
              "ticks": ""
             }
            },
            "type": "parcoords"
           }
          ],
          "pie": [
           {
            "automargin": true,
            "type": "pie"
           }
          ],
          "scatter": [
           {
            "fillpattern": {
             "fillmode": "overlay",
             "size": 10,
             "solidity": 0.2
            },
            "type": "scatter"
           }
          ],
          "scatter3d": [
           {
            "line": {
             "colorbar": {
              "outlinewidth": 0,
              "ticks": ""
             }
            },
            "marker": {
             "colorbar": {
              "outlinewidth": 0,
              "ticks": ""
             }
            },
            "type": "scatter3d"
           }
          ],
          "scattercarpet": [
           {
            "marker": {
             "colorbar": {
              "outlinewidth": 0,
              "ticks": ""
             }
            },
            "type": "scattercarpet"
           }
          ],
          "scattergeo": [
           {
            "marker": {
             "colorbar": {
              "outlinewidth": 0,
              "ticks": ""
             }
            },
            "type": "scattergeo"
           }
          ],
          "scattergl": [
           {
            "marker": {
             "colorbar": {
              "outlinewidth": 0,
              "ticks": ""
             }
            },
            "type": "scattergl"
           }
          ],
          "scattermapbox": [
           {
            "marker": {
             "colorbar": {
              "outlinewidth": 0,
              "ticks": ""
             }
            },
            "type": "scattermapbox"
           }
          ],
          "scatterpolar": [
           {
            "marker": {
             "colorbar": {
              "outlinewidth": 0,
              "ticks": ""
             }
            },
            "type": "scatterpolar"
           }
          ],
          "scatterpolargl": [
           {
            "marker": {
             "colorbar": {
              "outlinewidth": 0,
              "ticks": ""
             }
            },
            "type": "scatterpolargl"
           }
          ],
          "scatterternary": [
           {
            "marker": {
             "colorbar": {
              "outlinewidth": 0,
              "ticks": ""
             }
            },
            "type": "scatterternary"
           }
          ],
          "surface": [
           {
            "colorbar": {
             "outlinewidth": 0,
             "ticks": ""
            },
            "colorscale": [
             [
              0,
              "#0d0887"
             ],
             [
              0.1111111111111111,
              "#46039f"
             ],
             [
              0.2222222222222222,
              "#7201a8"
             ],
             [
              0.3333333333333333,
              "#9c179e"
             ],
             [
              0.4444444444444444,
              "#bd3786"
             ],
             [
              0.5555555555555556,
              "#d8576b"
             ],
             [
              0.6666666666666666,
              "#ed7953"
             ],
             [
              0.7777777777777778,
              "#fb9f3a"
             ],
             [
              0.8888888888888888,
              "#fdca26"
             ],
             [
              1,
              "#f0f921"
             ]
            ],
            "type": "surface"
           }
          ],
          "table": [
           {
            "cells": {
             "fill": {
              "color": "#EBF0F8"
             },
             "line": {
              "color": "white"
             }
            },
            "header": {
             "fill": {
              "color": "#C8D4E3"
             },
             "line": {
              "color": "white"
             }
            },
            "type": "table"
           }
          ]
         },
         "layout": {
          "annotationdefaults": {
           "arrowcolor": "#2a3f5f",
           "arrowhead": 0,
           "arrowwidth": 1
          },
          "autotypenumbers": "strict",
          "coloraxis": {
           "colorbar": {
            "outlinewidth": 0,
            "ticks": ""
           }
          },
          "colorscale": {
           "diverging": [
            [
             0,
             "#8e0152"
            ],
            [
             0.1,
             "#c51b7d"
            ],
            [
             0.2,
             "#de77ae"
            ],
            [
             0.3,
             "#f1b6da"
            ],
            [
             0.4,
             "#fde0ef"
            ],
            [
             0.5,
             "#f7f7f7"
            ],
            [
             0.6,
             "#e6f5d0"
            ],
            [
             0.7,
             "#b8e186"
            ],
            [
             0.8,
             "#7fbc41"
            ],
            [
             0.9,
             "#4d9221"
            ],
            [
             1,
             "#276419"
            ]
           ],
           "sequential": [
            [
             0,
             "#0d0887"
            ],
            [
             0.1111111111111111,
             "#46039f"
            ],
            [
             0.2222222222222222,
             "#7201a8"
            ],
            [
             0.3333333333333333,
             "#9c179e"
            ],
            [
             0.4444444444444444,
             "#bd3786"
            ],
            [
             0.5555555555555556,
             "#d8576b"
            ],
            [
             0.6666666666666666,
             "#ed7953"
            ],
            [
             0.7777777777777778,
             "#fb9f3a"
            ],
            [
             0.8888888888888888,
             "#fdca26"
            ],
            [
             1,
             "#f0f921"
            ]
           ],
           "sequentialminus": [
            [
             0,
             "#0d0887"
            ],
            [
             0.1111111111111111,
             "#46039f"
            ],
            [
             0.2222222222222222,
             "#7201a8"
            ],
            [
             0.3333333333333333,
             "#9c179e"
            ],
            [
             0.4444444444444444,
             "#bd3786"
            ],
            [
             0.5555555555555556,
             "#d8576b"
            ],
            [
             0.6666666666666666,
             "#ed7953"
            ],
            [
             0.7777777777777778,
             "#fb9f3a"
            ],
            [
             0.8888888888888888,
             "#fdca26"
            ],
            [
             1,
             "#f0f921"
            ]
           ]
          },
          "colorway": [
           "#636efa",
           "#EF553B",
           "#00cc96",
           "#ab63fa",
           "#FFA15A",
           "#19d3f3",
           "#FF6692",
           "#B6E880",
           "#FF97FF",
           "#FECB52"
          ],
          "font": {
           "color": "#2a3f5f"
          },
          "geo": {
           "bgcolor": "white",
           "lakecolor": "white",
           "landcolor": "#E5ECF6",
           "showlakes": true,
           "showland": true,
           "subunitcolor": "white"
          },
          "hoverlabel": {
           "align": "left"
          },
          "hovermode": "closest",
          "mapbox": {
           "style": "light"
          },
          "paper_bgcolor": "white",
          "plot_bgcolor": "#E5ECF6",
          "polar": {
           "angularaxis": {
            "gridcolor": "white",
            "linecolor": "white",
            "ticks": ""
           },
           "bgcolor": "#E5ECF6",
           "radialaxis": {
            "gridcolor": "white",
            "linecolor": "white",
            "ticks": ""
           }
          },
          "scene": {
           "xaxis": {
            "backgroundcolor": "#E5ECF6",
            "gridcolor": "white",
            "gridwidth": 2,
            "linecolor": "white",
            "showbackground": true,
            "ticks": "",
            "zerolinecolor": "white"
           },
           "yaxis": {
            "backgroundcolor": "#E5ECF6",
            "gridcolor": "white",
            "gridwidth": 2,
            "linecolor": "white",
            "showbackground": true,
            "ticks": "",
            "zerolinecolor": "white"
           },
           "zaxis": {
            "backgroundcolor": "#E5ECF6",
            "gridcolor": "white",
            "gridwidth": 2,
            "linecolor": "white",
            "showbackground": true,
            "ticks": "",
            "zerolinecolor": "white"
           }
          },
          "shapedefaults": {
           "line": {
            "color": "#2a3f5f"
           }
          },
          "ternary": {
           "aaxis": {
            "gridcolor": "white",
            "linecolor": "white",
            "ticks": ""
           },
           "baxis": {
            "gridcolor": "white",
            "linecolor": "white",
            "ticks": ""
           },
           "bgcolor": "#E5ECF6",
           "caxis": {
            "gridcolor": "white",
            "linecolor": "white",
            "ticks": ""
           }
          },
          "title": {
           "x": 0.05
          },
          "xaxis": {
           "automargin": true,
           "gridcolor": "white",
           "linecolor": "white",
           "ticks": "",
           "title": {
            "standoff": 15
           },
           "zerolinecolor": "white",
           "zerolinewidth": 2
          },
          "yaxis": {
           "automargin": true,
           "gridcolor": "white",
           "linecolor": "white",
           "ticks": "",
           "title": {
            "standoff": 15
           },
           "zerolinecolor": "white",
           "zerolinewidth": 2
          }
         }
        }
       }
      },
      "image/png": "[encoded data removed]",
      "text/html": [
       "<div>                            <div id=\"ea44ed4c-28e9-4394-bac3-14c5ebe3f0f1\" class=\"plotly-graph-div\" style=\"height:525px; width:100%;\"></div>            <script type=\"text/javascript\">                require([\"plotly\"], function(Plotly) {                    window.PLOTLYENV=window.PLOTLYENV || {};                                    if (document.getElementById(\"ea44ed4c-28e9-4394-bac3-14c5ebe3f0f1\")) {                    Plotly.newPlot(                        \"ea44ed4c-28e9-4394-bac3-14c5ebe3f0f1\",                        [{\"hovertemplate\":\"feature1=%{x}<br>feature2=%{y}<br>target=%{z}<extra></extra>\",\"legendgroup\":\"\",\"marker\":{\"color\":\"#636efa\",\"symbol\":\"circle\"},\"mode\":\"markers\",\"name\":\"\",\"scene\":\"scene\",\"showlegend\":false,\"x\":[1.0049884979102934,1.3381151487666827,1.1060295580267034,-0.1199421278162053,1.0594469493969807,1.3864307207496616,-0.3999536234496911,0.5593929819633274,-0.24295393225363776,0.7476448867407703,0.9555460251312056,-0.420527491308634,0.7556341021040245,0.5453166704740124,-1.3834488566633898,1.25390145627475,-0.2214380269335202,1.6918866546039641,0.5990291647855681,1.890443125560766,-0.437323332200744,0.542072227047971,2.267816811576371,0.3722846772983979,0.8612561247061813,0.11315053845233453,-0.7795165496657225,-0.5074507405027577,0.12289084016062676,-0.21610409473938677,1.0319514203292082,1.7935336707291216,-0.28447796495475725,-0.4691918587870412,0.8940902588191615,-1.528359406854796,-1.563619456266562,0.6151902299094384,-0.9063775300452546,-1.2410493136683354,-2.158185895759363,-1.4460819375756289,0.9600413927980754,1.4203495140832674,-0.8024548877873725,-0.8227380857186661,0.9261459212035833,-1.35053868653961,-0.5492097803592388,-0.7388609452788539,-0.16472832104826432,-0.08443546992565545,0.7237611467839222,-0.12813557647171528,0.19554757543889317,2.067198583668623,-0.14169485294885878,-0.7273415039344804,1.1713501943583005,-0.7519587045163647,-0.7142008807107634,-0.11890160416211128,1.3112714484851258,-0.945354238984346,-2.3719462793481814,-1.291295036199262,0.5409722499750879,-0.5801107678679549,-0.8260509224532349,-0.40778426125905054,1.1301146362480097,-0.8946983158085063,-1.4049134087697575,-1.4920213765006776,-1.5044478171689444,-1.6407369829749359,-0.22999282858853917,0.09211482280667291,-0.03243577320510026,0.08499614311704577,0.017289461871653537,-1.4759792899773094,-0.451760632266823,0.07835994618568325,-0.10569352108186487,0.5813169985367249,0.0037460733460772944,0.4210487463736586,0.5387753127002619,0.6433185652710519,-0.17214196477048951,1.8635989968531412,1.3833859552833119,1.4708045541678354,-0.2578070083294541,-0.17149383647702346,1.0003019539939983,0.4118200688158286,-1.0870307802378352,0.0048905590528915376],\"y\":[1.6306922677168567,0.15776341786192077,-0.4315923337845563,-0.5273770502489823,0.04728427056690038,0.777702944884017,0.06840807879798594,-0.822176005366966,-0.7410457549165759,0.7453663696302633,0.42099906240634255,-0.4897250752527722,1.2146286286044607,-1.501132321214499,-0.13592072561936028,-0.0287181145067554,-0.5566413777632078,1.6789573157988646,-3.3666327637333975,-0.6918662443609727,-1.4280241458991156,0.7303418421345954,-0.8025840190857594,-0.1440982231013727,0.6505678588222775,0.26205050335378843,1.3448955996013736,-0.6326495584423955,2.417563444242384,-0.7189648439917433,0.9159620068083497,-0.05269816882078061,0.8767163181532749,-0.5964020802061551,1.5500137559392897,-0.02582052002482465,0.39810944985607105,0.7688615041443161,0.10358847729202467,1.4115139602854894,0.8847351276823553,0.14490586207987352,-0.19996243384067902,0.033128525026269076,0.8777673797137127,0.9759796784185176,-0.10083993445708729,0.633303828688496,-0.2664201310595014,-0.5352940798889892,-2.8382913491443333,0.8521266615239709,0.4886692577841056,1.2647575624257268,-1.0284361176348744,1.1400685946789813,1.1940339230727697,-0.4166603245796782,0.34185901566784416,-0.44987780701157803,0.32552005912928966,-0.4096488735876434,0.9374417881316793,-0.6645108901966568,-1.0572749203759795,-0.6053641275151694,1.7599318777647526,-0.7924406971450773,1.9754043048909844,0.31672880093360284,-0.5944979231276727,-1.1128915605605045,-1.1995458718869736,-0.9216296924753127,-0.6449413321367947,0.9314448703874697,2.1780295145947806,-0.6519176251104043,0.05793406763024523,-0.28638388343755733,1.002353303944931,0.5892668787624792,0.9468110001608988,-0.2572388864158428,0.4308342181296319,0.3068701197715133,0.2001521190838508,0.09894706588145333,-0.5583694212881238,0.4464040842157458,-1.6709336788194311,0.026628571128061364,-0.5722901417629366,0.15168195227216885,-1.795382603491215,1.0362106661924388,-1.513517555066088,1.0032788806420108,-0.11803819564202794,-0.007993142120521667],\"z\":[170.4291331395732,118.5729525361102,-9.866659345765711,-71.92678821482221,181.14072260955828,69.8282191620433,-37.617630630505936,4.994506294057018,9.253410674440978,83.15096386277818,145.7062126910099,-18.178649791434182,157.8510339408411,-15.270314581669483,-156.00045290644496,150.09874134622666,-21.714171356522666,299.31931994297446,-56.66587601147589,63.335528923741165,-130.31536505747928,108.53906285036356,153.1120782793787,-4.513771950713156,-2.8607476861141947,24.884531374255438,-93.09196211442597,-33.2274713934538,45.39700868101227,6.1060776230295275,61.801769974702594,235.8465899993606,24.01126183907557,-145.45411153887045,71.49073643851918,-107.31790543509135,-131.70734698406625,34.333592737580595,-34.419604748002854,-46.83699323073496,-204.97771924621483,-135.12125875450394,137.47993472666357,116.78023348730042,-41.35903006035429,-94.71876961944837,143.90274860551338,-125.56516812410686,-91.936307292718,-133.76410774455144,-72.68335180169163,3.079698469536371,40.671001299273925,76.3870700536086,-5.905986652706735,298.7294521417748,-8.037291376594307,-139.31736620131954,187.9404336546216,-94.2957885048059,-5.379714158637086,-18.361909493768305,139.72160890286406,-80.14819825583552,-300.3288337707688,-147.44888430553019,143.6384370283025,-57.31860375068868,23.61747194631156,-50.607261755402774,105.21117290576798,-169.84578540123147,-193.31349848040367,-141.61644311573966,-134.04378853766434,-113.37222770238361,47.89582807467609,0.649466559798455,20.038239930984048,-59.44610783641363,21.558785518722104,-162.09535173454267,3.5014226502721346,-40.14920507035279,43.77983891871369,100.30757473560661,16.004059489009997,101.98203022013028,14.303070542034344,156.0850659961179,-50.83680240758642,132.24360496131246,78.48111494147672,167.44445856013766,-44.817610322736506,-44.363078778510314,-7.906560842550121,129.16984273177692,-167.20425558701794,34.63843231092544],\"type\":\"scatter3d\"}],                        {\"template\":{\"data\":{\"histogram2dcontour\":[{\"type\":\"histogram2dcontour\",\"colorbar\":{\"outlinewidth\":0,\"ticks\":\"\"},\"colorscale\":[[0.0,\"#0d0887\"],[0.1111111111111111,\"#46039f\"],[0.2222222222222222,\"#7201a8\"],[0.3333333333333333,\"#9c179e\"],[0.4444444444444444,\"#bd3786\"],[0.5555555555555556,\"#d8576b\"],[0.6666666666666666,\"#ed7953\"],[0.7777777777777778,\"#fb9f3a\"],[0.8888888888888888,\"#fdca26\"],[1.0,\"#f0f921\"]]}],\"choropleth\":[{\"type\":\"choropleth\",\"colorbar\":{\"outlinewidth\":0,\"ticks\":\"\"}}],\"histogram2d\":[{\"type\":\"histogram2d\",\"colorbar\":{\"outlinewidth\":0,\"ticks\":\"\"},\"colorscale\":[[0.0,\"#0d0887\"],[0.1111111111111111,\"#46039f\"],[0.2222222222222222,\"#7201a8\"],[0.3333333333333333,\"#9c179e\"],[0.4444444444444444,\"#bd3786\"],[0.5555555555555556,\"#d8576b\"],[0.6666666666666666,\"#ed7953\"],[0.7777777777777778,\"#fb9f3a\"],[0.8888888888888888,\"#fdca26\"],[1.0,\"#f0f921\"]]}],\"heatmap\":[{\"type\":\"heatmap\",\"colorbar\":{\"outlinewidth\":0,\"ticks\":\"\"},\"colorscale\":[[0.0,\"#0d0887\"],[0.1111111111111111,\"#46039f\"],[0.2222222222222222,\"#7201a8\"],[0.3333333333333333,\"#9c179e\"],[0.4444444444444444,\"#bd3786\"],[0.5555555555555556,\"#d8576b\"],[0.6666666666666666,\"#ed7953\"],[0.7777777777777778,\"#fb9f3a\"],[0.8888888888888888,\"#fdca26\"],[1.0,\"#f0f921\"]]}],\"heatmapgl\":[{\"type\":\"heatmapgl\",\"colorbar\":{\"outlinewidth\":0,\"ticks\":\"\"},\"colorscale\":[[0.0,\"#0d0887\"],[0.1111111111111111,\"#46039f\"],[0.2222222222222222,\"#7201a8\"],[0.3333333333333333,\"#9c179e\"],[0.4444444444444444,\"#bd3786\"],[0.5555555555555556,\"#d8576b\"],[0.6666666666666666,\"#ed7953\"],[0.7777777777777778,\"#fb9f3a\"],[0.8888888888888888,\"#fdca26\"],[1.0,\"#f0f921\"]]}],\"contourcarpet\":[{\"type\":\"contourcarpet\",\"colorbar\":{\"outlinewidth\":0,\"ticks\":\"\"}}],\"contour\":[{\"type\":\"contour\",\"colorbar\":{\"outlinewidth\":0,\"ticks\":\"\"},\"colorscale\":[[0.0,\"#0d0887\"],[0.1111111111111111,\"#46039f\"],[0.2222222222222222,\"#7201a8\"],[0.3333333333333333,\"#9c179e\"],[0.4444444444444444,\"#bd3786\"],[0.5555555555555556,\"#d8576b\"],[0.6666666666666666,\"#ed7953\"],[0.7777777777777778,\"#fb9f3a\"],[0.8888888888888888,\"#fdca26\"],[1.0,\"#f0f921\"]]}],\"surface\":[{\"type\":\"surface\",\"colorbar\":{\"outlinewidth\":0,\"ticks\":\"\"},\"colorscale\":[[0.0,\"#0d0887\"],[0.1111111111111111,\"#46039f\"],[0.2222222222222222,\"#7201a8\"],[0.3333333333333333,\"#9c179e\"],[0.4444444444444444,\"#bd3786\"],[0.5555555555555556,\"#d8576b\"],[0.6666666666666666,\"#ed7953\"],[0.7777777777777778,\"#fb9f3a\"],[0.8888888888888888,\"#fdca26\"],[1.0,\"#f0f921\"]]}],\"mesh3d\":[{\"type\":\"mesh3d\",\"colorbar\":{\"outlinewidth\":0,\"ticks\":\"\"}}],\"scatter\":[{\"fillpattern\":{\"fillmode\":\"overlay\",\"size\":10,\"solidity\":0.2},\"type\":\"scatter\"}],\"parcoords\":[{\"type\":\"parcoords\",\"line\":{\"colorbar\":{\"outlinewidth\":0,\"ticks\":\"\"}}}],\"scatterpolargl\":[{\"type\":\"scatterpolargl\",\"marker\":{\"colorbar\":{\"outlinewidth\":0,\"ticks\":\"\"}}}],\"bar\":[{\"error_x\":{\"color\":\"#2a3f5f\"},\"error_y\":{\"color\":\"#2a3f5f\"},\"marker\":{\"line\":{\"color\":\"#E5ECF6\",\"width\":0.5},\"pattern\":{\"fillmode\":\"overlay\",\"size\":10,\"solidity\":0.2}},\"type\":\"bar\"}],\"scattergeo\":[{\"type\":\"scattergeo\",\"marker\":{\"colorbar\":{\"outlinewidth\":0,\"ticks\":\"\"}}}],\"scatterpolar\":[{\"type\":\"scatterpolar\",\"marker\":{\"colorbar\":{\"outlinewidth\":0,\"ticks\":\"\"}}}],\"histogram\":[{\"marker\":{\"pattern\":{\"fillmode\":\"overlay\",\"size\":10,\"solidity\":0.2}},\"type\":\"histogram\"}],\"scattergl\":[{\"type\":\"scattergl\",\"marker\":{\"colorbar\":{\"outlinewidth\":0,\"ticks\":\"\"}}}],\"scatter3d\":[{\"type\":\"scatter3d\",\"line\":{\"colorbar\":{\"outlinewidth\":0,\"ticks\":\"\"}},\"marker\":{\"colorbar\":{\"outlinewidth\":0,\"ticks\":\"\"}}}],\"scattermapbox\":[{\"type\":\"scattermapbox\",\"marker\":{\"colorbar\":{\"outlinewidth\":0,\"ticks\":\"\"}}}],\"scatterternary\":[{\"type\":\"scatterternary\",\"marker\":{\"colorbar\":{\"outlinewidth\":0,\"ticks\":\"\"}}}],\"scattercarpet\":[{\"type\":\"scattercarpet\",\"marker\":{\"colorbar\":{\"outlinewidth\":0,\"ticks\":\"\"}}}],\"carpet\":[{\"aaxis\":{\"endlinecolor\":\"#2a3f5f\",\"gridcolor\":\"white\",\"linecolor\":\"white\",\"minorgridcolor\":\"white\",\"startlinecolor\":\"#2a3f5f\"},\"baxis\":{\"endlinecolor\":\"#2a3f5f\",\"gridcolor\":\"white\",\"linecolor\":\"white\",\"minorgridcolor\":\"white\",\"startlinecolor\":\"#2a3f5f\"},\"type\":\"carpet\"}],\"table\":[{\"cells\":{\"fill\":{\"color\":\"#EBF0F8\"},\"line\":{\"color\":\"white\"}},\"header\":{\"fill\":{\"color\":\"#C8D4E3\"},\"line\":{\"color\":\"white\"}},\"type\":\"table\"}],\"barpolar\":[{\"marker\":{\"line\":{\"color\":\"#E5ECF6\",\"width\":0.5},\"pattern\":{\"fillmode\":\"overlay\",\"size\":10,\"solidity\":0.2}},\"type\":\"barpolar\"}],\"pie\":[{\"automargin\":true,\"type\":\"pie\"}]},\"layout\":{\"autotypenumbers\":\"strict\",\"colorway\":[\"#636efa\",\"#EF553B\",\"#00cc96\",\"#ab63fa\",\"#FFA15A\",\"#19d3f3\",\"#FF6692\",\"#B6E880\",\"#FF97FF\",\"#FECB52\"],\"font\":{\"color\":\"#2a3f5f\"},\"hovermode\":\"closest\",\"hoverlabel\":{\"align\":\"left\"},\"paper_bgcolor\":\"white\",\"plot_bgcolor\":\"#E5ECF6\",\"polar\":{\"bgcolor\":\"#E5ECF6\",\"angularaxis\":{\"gridcolor\":\"white\",\"linecolor\":\"white\",\"ticks\":\"\"},\"radialaxis\":{\"gridcolor\":\"white\",\"linecolor\":\"white\",\"ticks\":\"\"}},\"ternary\":{\"bgcolor\":\"#E5ECF6\",\"aaxis\":{\"gridcolor\":\"white\",\"linecolor\":\"white\",\"ticks\":\"\"},\"baxis\":{\"gridcolor\":\"white\",\"linecolor\":\"white\",\"ticks\":\"\"},\"caxis\":{\"gridcolor\":\"white\",\"linecolor\":\"white\",\"ticks\":\"\"}},\"coloraxis\":{\"colorbar\":{\"outlinewidth\":0,\"ticks\":\"\"}},\"colorscale\":{\"sequential\":[[0.0,\"#0d0887\"],[0.1111111111111111,\"#46039f\"],[0.2222222222222222,\"#7201a8\"],[0.3333333333333333,\"#9c179e\"],[0.4444444444444444,\"#bd3786\"],[0.5555555555555556,\"#d8576b\"],[0.6666666666666666,\"#ed7953\"],[0.7777777777777778,\"#fb9f3a\"],[0.8888888888888888,\"#fdca26\"],[1.0,\"#f0f921\"]],\"sequentialminus\":[[0.0,\"#0d0887\"],[0.1111111111111111,\"#46039f\"],[0.2222222222222222,\"#7201a8\"],[0.3333333333333333,\"#9c179e\"],[0.4444444444444444,\"#bd3786\"],[0.5555555555555556,\"#d8576b\"],[0.6666666666666666,\"#ed7953\"],[0.7777777777777778,\"#fb9f3a\"],[0.8888888888888888,\"#fdca26\"],[1.0,\"#f0f921\"]],\"diverging\":[[0,\"#8e0152\"],[0.1,\"#c51b7d\"],[0.2,\"#de77ae\"],[0.3,\"#f1b6da\"],[0.4,\"#fde0ef\"],[0.5,\"#f7f7f7\"],[0.6,\"#e6f5d0\"],[0.7,\"#b8e186\"],[0.8,\"#7fbc41\"],[0.9,\"#4d9221\"],[1,\"#276419\"]]},\"xaxis\":{\"gridcolor\":\"white\",\"linecolor\":\"white\",\"ticks\":\"\",\"title\":{\"standoff\":15},\"zerolinecolor\":\"white\",\"automargin\":true,\"zerolinewidth\":2},\"yaxis\":{\"gridcolor\":\"white\",\"linecolor\":\"white\",\"ticks\":\"\",\"title\":{\"standoff\":15},\"zerolinecolor\":\"white\",\"automargin\":true,\"zerolinewidth\":2},\"scene\":{\"xaxis\":{\"backgroundcolor\":\"#E5ECF6\",\"gridcolor\":\"white\",\"linecolor\":\"white\",\"showbackground\":true,\"ticks\":\"\",\"zerolinecolor\":\"white\",\"gridwidth\":2},\"yaxis\":{\"backgroundcolor\":\"#E5ECF6\",\"gridcolor\":\"white\",\"linecolor\":\"white\",\"showbackground\":true,\"ticks\":\"\",\"zerolinecolor\":\"white\",\"gridwidth\":2},\"zaxis\":{\"backgroundcolor\":\"#E5ECF6\",\"gridcolor\":\"white\",\"linecolor\":\"white\",\"showbackground\":true,\"ticks\":\"\",\"zerolinecolor\":\"white\",\"gridwidth\":2}},\"shapedefaults\":{\"line\":{\"color\":\"#2a3f5f\"}},\"annotationdefaults\":{\"arrowcolor\":\"#2a3f5f\",\"arrowhead\":0,\"arrowwidth\":1},\"geo\":{\"bgcolor\":\"white\",\"landcolor\":\"#E5ECF6\",\"subunitcolor\":\"white\",\"showland\":true,\"showlakes\":true,\"lakecolor\":\"white\"},\"title\":{\"x\":0.05},\"mapbox\":{\"style\":\"light\"}}},\"scene\":{\"domain\":{\"x\":[0.0,1.0],\"y\":[0.0,1.0]},\"xaxis\":{\"title\":{\"text\":\"feature1\"}},\"yaxis\":{\"title\":{\"text\":\"feature2\"}},\"zaxis\":{\"title\":{\"text\":\"target\"}}},\"legend\":{\"tracegroupgap\":0},\"margin\":{\"t\":60}},                        {\"responsive\": true}                    ).then(function(){\n",
       "                            \n",
       "var gd = document.getElementById('ea44ed4c-28e9-4394-bac3-14c5ebe3f0f1');\n",
       "var x = new MutationObserver(function (mutations, observer) {{\n",
       "        var display = window.getComputedStyle(gd).display;\n",
       "        if (!display || display === 'none') {{\n",
       "            console.log([gd, 'removed!']);\n",
       "            Plotly.purge(gd);\n",
       "            observer.disconnect();\n",
       "        }}\n",
       "}});\n",
       "\n",
       "// Listen for the removal of the full notebook cells\n",
       "var notebookContainer = gd.closest('#notebook-container');\n",
       "if (notebookContainer) {{\n",
       "    x.observe(notebookContainer, {childList: true});\n",
       "}}\n",
       "\n",
       "// Listen for the clearing of the current output cell\n",
       "var outputEl = gd.closest('.output');\n",
       "if (outputEl) {{\n",
       "    x.observe(outputEl, {childList: true});\n",
       "}}\n",
       "\n",
       "                        })                };                });            </script>        </div>"
      ]
     },
     "metadata": {},
     "output_type": "display_data"
    }
   ],
   "source": [
    "fig = px.scatter_3d(df, x='feature1', y='feature2', z='target')\n",
    "\n",
    "fig.show()"
   ]
  },
  {
   "cell_type": "code",
   "execution_count": 65,
   "metadata": {
    "id": "JuxDxS4JB80Z"
   },
   "outputs": [],
   "source": [
    "from sklearn.model_selection import train_test_split\n",
    "X_train,X_test,y_train,y_test = train_test_split(X,y,test_size=0.2,random_state=3)"
   ]
  },
  {
   "cell_type": "code",
   "execution_count": 66,
   "metadata": {
    "id": "eG18yML6nl0h"
   },
   "outputs": [],
   "source": [
    "from sklearn.linear_model import LinearRegression"
   ]
  },
  {
   "cell_type": "code",
   "execution_count": 67,
   "metadata": {
    "id": "W_OGmF3npCKC"
   },
   "outputs": [],
   "source": [
    "lr = LinearRegression()"
   ]
  },
  {
   "cell_type": "code",
   "execution_count": 68,
   "metadata": {
    "colab": {
     "base_uri": "https://localhost:8080/"
    },
    "id": "g6hR7U0epEBR",
    "outputId": "8f1e75c9-8aa6-4450-d8a0-d8df50b9600c"
   },
   "outputs": [
    {
     "data": {
      "text/html": [
       "<style>#sk-container-id-5 {color: black;background-color: white;}#sk-container-id-5 pre{padding: 0;}#sk-container-id-5 div.sk-toggleable {background-color: white;}#sk-container-id-5 label.sk-toggleable__label {cursor: pointer;display: block;width: 100%;margin-bottom: 0;padding: 0.3em;box-sizing: border-box;text-align: center;}#sk-container-id-5 label.sk-toggleable__label-arrow:before {content: \"▸\";float: left;margin-right: 0.25em;color: #696969;}#sk-container-id-5 label.sk-toggleable__label-arrow:hover:before {color: black;}#sk-container-id-5 div.sk-estimator:hover label.sk-toggleable__label-arrow:before {color: black;}#sk-container-id-5 div.sk-toggleable__content {max-height: 0;max-width: 0;overflow: hidden;text-align: left;background-color: #f0f8ff;}#sk-container-id-5 div.sk-toggleable__content pre {margin: 0.2em;color: black;border-radius: 0.25em;background-color: #f0f8ff;}#sk-container-id-5 input.sk-toggleable__control:checked~div.sk-toggleable__content {max-height: 200px;max-width: 100%;overflow: auto;}#sk-container-id-5 input.sk-toggleable__control:checked~label.sk-toggleable__label-arrow:before {content: \"▾\";}#sk-container-id-5 div.sk-estimator input.sk-toggleable__control:checked~label.sk-toggleable__label {background-color: #d4ebff;}#sk-container-id-5 div.sk-label input.sk-toggleable__control:checked~label.sk-toggleable__label {background-color: #d4ebff;}#sk-container-id-5 input.sk-hidden--visually {border: 0;clip: rect(1px 1px 1px 1px);clip: rect(1px, 1px, 1px, 1px);height: 1px;margin: -1px;overflow: hidden;padding: 0;position: absolute;width: 1px;}#sk-container-id-5 div.sk-estimator {font-family: monospace;background-color: #f0f8ff;border: 1px dotted black;border-radius: 0.25em;box-sizing: border-box;margin-bottom: 0.5em;}#sk-container-id-5 div.sk-estimator:hover {background-color: #d4ebff;}#sk-container-id-5 div.sk-parallel-item::after {content: \"\";width: 100%;border-bottom: 1px solid gray;flex-grow: 1;}#sk-container-id-5 div.sk-label:hover label.sk-toggleable__label {background-color: #d4ebff;}#sk-container-id-5 div.sk-serial::before {content: \"\";position: absolute;border-left: 1px solid gray;box-sizing: border-box;top: 0;bottom: 0;left: 50%;z-index: 0;}#sk-container-id-5 div.sk-serial {display: flex;flex-direction: column;align-items: center;background-color: white;padding-right: 0.2em;padding-left: 0.2em;position: relative;}#sk-container-id-5 div.sk-item {position: relative;z-index: 1;}#sk-container-id-5 div.sk-parallel {display: flex;align-items: stretch;justify-content: center;background-color: white;position: relative;}#sk-container-id-5 div.sk-item::before, #sk-container-id-5 div.sk-parallel-item::before {content: \"\";position: absolute;border-left: 1px solid gray;box-sizing: border-box;top: 0;bottom: 0;left: 50%;z-index: -1;}#sk-container-id-5 div.sk-parallel-item {display: flex;flex-direction: column;z-index: 1;position: relative;background-color: white;}#sk-container-id-5 div.sk-parallel-item:first-child::after {align-self: flex-end;width: 50%;}#sk-container-id-5 div.sk-parallel-item:last-child::after {align-self: flex-start;width: 50%;}#sk-container-id-5 div.sk-parallel-item:only-child::after {width: 0;}#sk-container-id-5 div.sk-dashed-wrapped {border: 1px dashed gray;margin: 0 0.4em 0.5em 0.4em;box-sizing: border-box;padding-bottom: 0.4em;background-color: white;}#sk-container-id-5 div.sk-label label {font-family: monospace;font-weight: bold;display: inline-block;line-height: 1.2em;}#sk-container-id-5 div.sk-label-container {text-align: center;}#sk-container-id-5 div.sk-container {/* jupyter's `normalize.less` sets `[hidden] { display: none; }` but bootstrap.min.css set `[hidden] { display: none !important; }` so we also need the `!important` here to be able to override the default hidden behavior on the sphinx rendered scikit-learn.org. See: https://github.com/scikit-learn/scikit-learn/issues/21755 */display: inline-block !important;position: relative;}#sk-container-id-5 div.sk-text-repr-fallback {display: none;}</style><div id=\"sk-container-id-5\" class=\"sk-top-container\"><div class=\"sk-text-repr-fallback\"><pre>LinearRegression()</pre><b>In a Jupyter environment, please rerun this cell to show the HTML representation or trust the notebook. <br />On GitHub, the HTML representation is unable to render, please try loading this page with nbviewer.org.</b></div><div class=\"sk-container\" hidden><div class=\"sk-item\"><div class=\"sk-estimator sk-toggleable\"><input class=\"sk-toggleable__control sk-hidden--visually\" id=\"sk-estimator-id-5\" type=\"checkbox\" checked><label for=\"sk-estimator-id-5\" class=\"sk-toggleable__label sk-toggleable__label-arrow\">LinearRegression</label><div class=\"sk-toggleable__content\"><pre>LinearRegression()</pre></div></div></div></div></div>"
      ],
      "text/plain": [
       "LinearRegression()"
      ]
     },
     "execution_count": 68,
     "metadata": {},
     "output_type": "execute_result"
    }
   ],
   "source": [
    "lr.fit(X_train,y_train)"
   ]
  },
  {
   "cell_type": "code",
   "execution_count": 69,
   "metadata": {
    "id": "eKExpiVMpF9F"
   },
   "outputs": [],
   "source": [
    "y_pred = lr.predict(X_test)"
   ]
  },
  {
   "cell_type": "code",
   "execution_count": 70,
   "metadata": {
    "colab": {
     "base_uri": "https://localhost:8080/"
    },
    "id": "90AXRhgzrSW_",
    "outputId": "8f6d4538-ce4f-44be-90c6-a5e013c8ab80"
   },
   "outputs": [
    {
     "name": "stdout",
     "output_type": "stream",
     "text": [
      "MAE 32.51355234436251\n",
      "MSE 1461.5793107462982\n",
      "R2 score 0.8947834753718791\n"
     ]
    }
   ],
   "source": [
    "print(\"MAE\",mean_absolute_error(y_test,y_pred))\n",
    "print(\"MSE\",mean_squared_error(y_test,y_pred))\n",
    "print(\"R2 score\",r2_score(y_test,y_pred))"
   ]
  },
  {
   "cell_type": "code",
   "execution_count": 71,
   "metadata": {
    "id": "GQQrYU8r3fpd"
   },
   "outputs": [],
   "source": [
    "x = np.linspace(-5, 5, 10)\n",
    "y = np.linspace(-5, 5, 10)\n",
    "xGrid, yGrid = np.meshgrid(y, x)\n",
    "final = np.vstack((xGrid.ravel().reshape(1,100),yGrid.ravel().reshape(1,100))).T\n",
    "z_final = lr.predict(final).reshape(10,10)\n",
    "\n",
    "z = z_final\n",
    "\n"
   ]
  },
  {
   "cell_type": "code",
   "execution_count": 72,
   "metadata": {
    "colab": {
     "base_uri": "https://localhost:8080/",
     "height": 542
    },
    "id": "NpAvnU-t3yV0",
    "outputId": "adac4b74-fa27-4440-eff7-b0643e1f0ce9"
   },
   "outputs": [
    {
     "data": {
      "application/vnd.plotly.v1+json": {
       "config": {
        "plotlyServerURL": "https://plot.ly"
       },
       "data": [
        {
         "hovertemplate": "feature1=%{x}<br>feature2=%{y}<br>target=%{z}<extra></extra>",
         "legendgroup": "",
         "marker": {
          "color": "#636efa",
          "symbol": "circle"
         },
         "mode": "markers",
         "name": "",
         "scene": "scene",
         "showlegend": false,
         "type": "scatter3d",
         "x": [
          1.0049884979102934,
          1.3381151487666827,
          1.1060295580267034,
          -0.1199421278162053,
          1.0594469493969807,
          1.3864307207496616,
          -0.3999536234496911,
          0.5593929819633274,
          -0.24295393225363776,
          0.7476448867407703,
          0.9555460251312056,
          -0.420527491308634,
          0.7556341021040245,
          0.5453166704740124,
          -1.3834488566633898,
          1.25390145627475,
          -0.2214380269335202,
          1.6918866546039641,
          0.5990291647855681,
          1.890443125560766,
          -0.437323332200744,
          0.542072227047971,
          2.267816811576371,
          0.3722846772983979,
          0.8612561247061813,
          0.11315053845233453,
          -0.7795165496657225,
          -0.5074507405027577,
          0.12289084016062676,
          -0.21610409473938677,
          1.0319514203292082,
          1.7935336707291216,
          -0.28447796495475725,
          -0.4691918587870412,
          0.8940902588191615,
          -1.528359406854796,
          -1.563619456266562,
          0.6151902299094384,
          -0.9063775300452546,
          -1.2410493136683354,
          -2.158185895759363,
          -1.4460819375756289,
          0.9600413927980754,
          1.4203495140832674,
          -0.8024548877873725,
          -0.8227380857186661,
          0.9261459212035833,
          -1.35053868653961,
          -0.5492097803592388,
          -0.7388609452788539,
          -0.16472832104826432,
          -0.08443546992565545,
          0.7237611467839222,
          -0.12813557647171528,
          0.19554757543889317,
          2.067198583668623,
          -0.14169485294885878,
          -0.7273415039344804,
          1.1713501943583005,
          -0.7519587045163647,
          -0.7142008807107634,
          -0.11890160416211128,
          1.3112714484851258,
          -0.945354238984346,
          -2.3719462793481814,
          -1.291295036199262,
          0.5409722499750879,
          -0.5801107678679549,
          -0.8260509224532349,
          -0.40778426125905054,
          1.1301146362480097,
          -0.8946983158085063,
          -1.4049134087697575,
          -1.4920213765006776,
          -1.5044478171689444,
          -1.6407369829749359,
          -0.22999282858853917,
          0.09211482280667291,
          -0.03243577320510026,
          0.08499614311704577,
          0.017289461871653537,
          -1.4759792899773094,
          -0.451760632266823,
          0.07835994618568325,
          -0.10569352108186487,
          0.5813169985367249,
          0.0037460733460772944,
          0.4210487463736586,
          0.5387753127002619,
          0.6433185652710519,
          -0.17214196477048951,
          1.8635989968531412,
          1.3833859552833119,
          1.4708045541678354,
          -0.2578070083294541,
          -0.17149383647702346,
          1.0003019539939983,
          0.4118200688158286,
          -1.0870307802378352,
          0.0048905590528915376
         ],
         "y": [
          1.6306922677168567,
          0.15776341786192077,
          -0.4315923337845563,
          -0.5273770502489823,
          0.04728427056690038,
          0.777702944884017,
          0.06840807879798594,
          -0.822176005366966,
          -0.7410457549165759,
          0.7453663696302633,
          0.42099906240634255,
          -0.4897250752527722,
          1.2146286286044607,
          -1.501132321214499,
          -0.13592072561936028,
          -0.0287181145067554,
          -0.5566413777632078,
          1.6789573157988646,
          -3.3666327637333975,
          -0.6918662443609727,
          -1.4280241458991156,
          0.7303418421345954,
          -0.8025840190857594,
          -0.1440982231013727,
          0.6505678588222775,
          0.26205050335378843,
          1.3448955996013736,
          -0.6326495584423955,
          2.417563444242384,
          -0.7189648439917433,
          0.9159620068083497,
          -0.05269816882078061,
          0.8767163181532749,
          -0.5964020802061551,
          1.5500137559392897,
          -0.02582052002482465,
          0.39810944985607105,
          0.7688615041443161,
          0.10358847729202467,
          1.4115139602854894,
          0.8847351276823553,
          0.14490586207987352,
          -0.19996243384067902,
          0.033128525026269076,
          0.8777673797137127,
          0.9759796784185176,
          -0.10083993445708729,
          0.633303828688496,
          -0.2664201310595014,
          -0.5352940798889892,
          -2.8382913491443333,
          0.8521266615239709,
          0.4886692577841056,
          1.2647575624257268,
          -1.0284361176348744,
          1.1400685946789813,
          1.1940339230727697,
          -0.4166603245796782,
          0.34185901566784416,
          -0.44987780701157803,
          0.32552005912928966,
          -0.4096488735876434,
          0.9374417881316793,
          -0.6645108901966568,
          -1.0572749203759795,
          -0.6053641275151694,
          1.7599318777647526,
          -0.7924406971450773,
          1.9754043048909844,
          0.31672880093360284,
          -0.5944979231276727,
          -1.1128915605605045,
          -1.1995458718869736,
          -0.9216296924753127,
          -0.6449413321367947,
          0.9314448703874697,
          2.1780295145947806,
          -0.6519176251104043,
          0.05793406763024523,
          -0.28638388343755733,
          1.002353303944931,
          0.5892668787624792,
          0.9468110001608988,
          -0.2572388864158428,
          0.4308342181296319,
          0.3068701197715133,
          0.2001521190838508,
          0.09894706588145333,
          -0.5583694212881238,
          0.4464040842157458,
          -1.6709336788194311,
          0.026628571128061364,
          -0.5722901417629366,
          0.15168195227216885,
          -1.795382603491215,
          1.0362106661924388,
          -1.513517555066088,
          1.0032788806420108,
          -0.11803819564202794,
          -0.007993142120521667
         ],
         "z": [
          170.4291331395732,
          118.5729525361102,
          -9.866659345765711,
          -71.92678821482221,
          181.14072260955828,
          69.8282191620433,
          -37.617630630505936,
          4.994506294057018,
          9.253410674440978,
          83.15096386277818,
          145.7062126910099,
          -18.178649791434182,
          157.8510339408411,
          -15.270314581669483,
          -156.00045290644496,
          150.09874134622666,
          -21.714171356522666,
          299.31931994297446,
          -56.66587601147589,
          63.335528923741165,
          -130.31536505747928,
          108.53906285036356,
          153.1120782793787,
          -4.513771950713156,
          -2.8607476861141947,
          24.884531374255438,
          -93.09196211442597,
          -33.2274713934538,
          45.39700868101227,
          6.1060776230295275,
          61.801769974702594,
          235.8465899993606,
          24.01126183907557,
          -145.45411153887045,
          71.49073643851918,
          -107.31790543509135,
          -131.70734698406625,
          34.333592737580595,
          -34.419604748002854,
          -46.83699323073496,
          -204.97771924621483,
          -135.12125875450394,
          137.47993472666357,
          116.78023348730042,
          -41.35903006035429,
          -94.71876961944837,
          143.90274860551338,
          -125.56516812410686,
          -91.936307292718,
          -133.76410774455144,
          -72.68335180169163,
          3.079698469536371,
          40.671001299273925,
          76.3870700536086,
          -5.905986652706735,
          298.7294521417748,
          -8.037291376594307,
          -139.31736620131954,
          187.9404336546216,
          -94.2957885048059,
          -5.379714158637086,
          -18.361909493768305,
          139.72160890286406,
          -80.14819825583552,
          -300.3288337707688,
          -147.44888430553019,
          143.6384370283025,
          -57.31860375068868,
          23.61747194631156,
          -50.607261755402774,
          105.21117290576798,
          -169.84578540123147,
          -193.31349848040367,
          -141.61644311573966,
          -134.04378853766434,
          -113.37222770238361,
          47.89582807467609,
          0.649466559798455,
          20.038239930984048,
          -59.44610783641363,
          21.558785518722104,
          -162.09535173454267,
          3.5014226502721346,
          -40.14920507035279,
          43.77983891871369,
          100.30757473560661,
          16.004059489009997,
          101.98203022013028,
          14.303070542034344,
          156.0850659961179,
          -50.83680240758642,
          132.24360496131246,
          78.48111494147672,
          167.44445856013766,
          -44.817610322736506,
          -44.363078778510314,
          -7.906560842550121,
          129.16984273177692,
          -167.20425558701794,
          34.63843231092544
         ]
        },
        {
         "type": "surface",
         "x": [
          -5,
          -3.888888888888889,
          -2.7777777777777777,
          -1.6666666666666665,
          -0.5555555555555554,
          0.5555555555555554,
          1.666666666666667,
          2.7777777777777786,
          3.8888888888888893,
          5
         ],
         "y": [
          -5,
          -3.888888888888889,
          -2.7777777777777777,
          -1.6666666666666665,
          -0.5555555555555554,
          0.5555555555555554,
          1.666666666666667,
          2.7777777777777786,
          3.8888888888888893,
          5
         ],
         "z": [
          [
           -636.9024104737418,
           -532.5955055571833,
           -428.28860064062457,
           -323.9816957240659,
           -219.6747908075073,
           -115.36788589094873,
           -11.06098097439008,
           93.24592394216859,
           197.5528288587272,
           301.85973377528575
          ],
          [
           -599.5435892850794,
           -495.2366843685207,
           -390.92977945196213,
           -286.62287453540347,
           -182.31596961884486,
           -78.00906470228627,
           26.29784021427238,
           130.60474513083105,
           234.91165004738966,
           339.2185549639482
          ],
          [
           -562.1847680964169,
           -457.87786317985825,
           -353.57095826329964,
           -249.26405334674098,
           -144.95714843018237,
           -40.65024351362379,
           63.65666140293486,
           167.9635663194935,
           272.2704712360521,
           376.57737615261067
          ],
          [
           -524.8259469077544,
           -420.51904199119576,
           -316.21213707463716,
           -211.90523215807852,
           -107.5983272415199,
           -3.291422324961321,
           101.01548259159733,
           205.322387508156,
           309.6292924247146,
           413.93619734127316
          ],
          [
           -487.4671257190919,
           -383.1602208025333,
           -278.85331588597467,
           -174.54641096941606,
           -70.23950605285742,
           34.06739886370116,
           138.37430378025982,
           242.6812086968185,
           346.9881136133771,
           451.29501852993565
          ],
          [
           -450.10830453042945,
           -345.80139961387084,
           -241.49449469731223,
           -137.18758978075357,
           -32.88068486419496,
           71.42622005236362,
           175.73312496892225,
           280.0400298854809,
           384.3469348020395,
           488.6538397185981
          ],
          [
           -412.74948334176696,
           -308.44257842520835,
           -204.13567350864975,
           -99.8287685920911,
           4.478136324467524,
           108.78504124102611,
           213.09194615758474,
           317.3988510741434,
           421.705755990702,
           526.0126609072605
          ],
          [
           -375.3906621531045,
           -271.08375723654586,
           -166.77685231998726,
           -62.469947403428606,
           41.83695751313002,
           146.1438624296886,
           250.45076734624723,
           354.7576722628059,
           459.0645771793645,
           563.371482095923
          ],
          [
           -338.031840964442,
           -233.7249360478834,
           -129.4180311313248,
           -25.111126214766163,
           79.19577870179246,
           183.50268361835106,
           287.80958853490966,
           392.11649345146833,
           496.423398368027,
           600.7303032845855
          ],
          [
           -300.67301977577955,
           -196.36611485922094,
           -92.05920994266233,
           12.247694973896298,
           116.55459989045492,
           220.8615048070135,
           325.16840972357215,
           429.4753146401308,
           533.7822195566894,
           638.0891244732479
          ]
         ]
        }
       ],
       "layout": {
        "autosize": true,
        "legend": {
         "tracegroupgap": 0
        },
        "margin": {
         "t": 60
        },
        "scene": {
         "aspectmode": "auto",
         "aspectratio": {
          "x": 1,
          "y": 1,
          "z": 1
         },
         "camera": {
          "center": {
           "x": 0,
           "y": 0,
           "z": 0
          },
          "eye": {
           "x": 1.7312589077708058,
           "y": 1.5851765462152745,
           "z": 1.8532690875452704
          },
          "projection": {
           "type": "perspective"
          },
          "up": {
           "x": 0,
           "y": 0,
           "z": 1
          }
         },
         "domain": {
          "x": [
           0,
           1
          ],
          "y": [
           0,
           1
          ]
         },
         "xaxis": {
          "title": {
           "text": "feature1"
          },
          "type": "linear"
         },
         "yaxis": {
          "title": {
           "text": "feature2"
          },
          "type": "linear"
         },
         "zaxis": {
          "title": {
           "text": "target"
          },
          "type": "linear"
         }
        },
        "template": {
         "data": {
          "bar": [
           {
            "error_x": {
             "color": "#2a3f5f"
            },
            "error_y": {
             "color": "#2a3f5f"
            },
            "marker": {
             "line": {
              "color": "#E5ECF6",
              "width": 0.5
             },
             "pattern": {
              "fillmode": "overlay",
              "size": 10,
              "solidity": 0.2
             }
            },
            "type": "bar"
           }
          ],
          "barpolar": [
           {
            "marker": {
             "line": {
              "color": "#E5ECF6",
              "width": 0.5
             },
             "pattern": {
              "fillmode": "overlay",
              "size": 10,
              "solidity": 0.2
             }
            },
            "type": "barpolar"
           }
          ],
          "carpet": [
           {
            "aaxis": {
             "endlinecolor": "#2a3f5f",
             "gridcolor": "white",
             "linecolor": "white",
             "minorgridcolor": "white",
             "startlinecolor": "#2a3f5f"
            },
            "baxis": {
             "endlinecolor": "#2a3f5f",
             "gridcolor": "white",
             "linecolor": "white",
             "minorgridcolor": "white",
             "startlinecolor": "#2a3f5f"
            },
            "type": "carpet"
           }
          ],
          "choropleth": [
           {
            "colorbar": {
             "outlinewidth": 0,
             "ticks": ""
            },
            "type": "choropleth"
           }
          ],
          "contour": [
           {
            "colorbar": {
             "outlinewidth": 0,
             "ticks": ""
            },
            "colorscale": [
             [
              0,
              "#0d0887"
             ],
             [
              0.1111111111111111,
              "#46039f"
             ],
             [
              0.2222222222222222,
              "#7201a8"
             ],
             [
              0.3333333333333333,
              "#9c179e"
             ],
             [
              0.4444444444444444,
              "#bd3786"
             ],
             [
              0.5555555555555556,
              "#d8576b"
             ],
             [
              0.6666666666666666,
              "#ed7953"
             ],
             [
              0.7777777777777778,
              "#fb9f3a"
             ],
             [
              0.8888888888888888,
              "#fdca26"
             ],
             [
              1,
              "#f0f921"
             ]
            ],
            "type": "contour"
           }
          ],
          "contourcarpet": [
           {
            "colorbar": {
             "outlinewidth": 0,
             "ticks": ""
            },
            "type": "contourcarpet"
           }
          ],
          "heatmap": [
           {
            "colorbar": {
             "outlinewidth": 0,
             "ticks": ""
            },
            "colorscale": [
             [
              0,
              "#0d0887"
             ],
             [
              0.1111111111111111,
              "#46039f"
             ],
             [
              0.2222222222222222,
              "#7201a8"
             ],
             [
              0.3333333333333333,
              "#9c179e"
             ],
             [
              0.4444444444444444,
              "#bd3786"
             ],
             [
              0.5555555555555556,
              "#d8576b"
             ],
             [
              0.6666666666666666,
              "#ed7953"
             ],
             [
              0.7777777777777778,
              "#fb9f3a"
             ],
             [
              0.8888888888888888,
              "#fdca26"
             ],
             [
              1,
              "#f0f921"
             ]
            ],
            "type": "heatmap"
           }
          ],
          "heatmapgl": [
           {
            "colorbar": {
             "outlinewidth": 0,
             "ticks": ""
            },
            "colorscale": [
             [
              0,
              "#0d0887"
             ],
             [
              0.1111111111111111,
              "#46039f"
             ],
             [
              0.2222222222222222,
              "#7201a8"
             ],
             [
              0.3333333333333333,
              "#9c179e"
             ],
             [
              0.4444444444444444,
              "#bd3786"
             ],
             [
              0.5555555555555556,
              "#d8576b"
             ],
             [
              0.6666666666666666,
              "#ed7953"
             ],
             [
              0.7777777777777778,
              "#fb9f3a"
             ],
             [
              0.8888888888888888,
              "#fdca26"
             ],
             [
              1,
              "#f0f921"
             ]
            ],
            "type": "heatmapgl"
           }
          ],
          "histogram": [
           {
            "marker": {
             "pattern": {
              "fillmode": "overlay",
              "size": 10,
              "solidity": 0.2
             }
            },
            "type": "histogram"
           }
          ],
          "histogram2d": [
           {
            "colorbar": {
             "outlinewidth": 0,
             "ticks": ""
            },
            "colorscale": [
             [
              0,
              "#0d0887"
             ],
             [
              0.1111111111111111,
              "#46039f"
             ],
             [
              0.2222222222222222,
              "#7201a8"
             ],
             [
              0.3333333333333333,
              "#9c179e"
             ],
             [
              0.4444444444444444,
              "#bd3786"
             ],
             [
              0.5555555555555556,
              "#d8576b"
             ],
             [
              0.6666666666666666,
              "#ed7953"
             ],
             [
              0.7777777777777778,
              "#fb9f3a"
             ],
             [
              0.8888888888888888,
              "#fdca26"
             ],
             [
              1,
              "#f0f921"
             ]
            ],
            "type": "histogram2d"
           }
          ],
          "histogram2dcontour": [
           {
            "colorbar": {
             "outlinewidth": 0,
             "ticks": ""
            },
            "colorscale": [
             [
              0,
              "#0d0887"
             ],
             [
              0.1111111111111111,
              "#46039f"
             ],
             [
              0.2222222222222222,
              "#7201a8"
             ],
             [
              0.3333333333333333,
              "#9c179e"
             ],
             [
              0.4444444444444444,
              "#bd3786"
             ],
             [
              0.5555555555555556,
              "#d8576b"
             ],
             [
              0.6666666666666666,
              "#ed7953"
             ],
             [
              0.7777777777777778,
              "#fb9f3a"
             ],
             [
              0.8888888888888888,
              "#fdca26"
             ],
             [
              1,
              "#f0f921"
             ]
            ],
            "type": "histogram2dcontour"
           }
          ],
          "mesh3d": [
           {
            "colorbar": {
             "outlinewidth": 0,
             "ticks": ""
            },
            "type": "mesh3d"
           }
          ],
          "parcoords": [
           {
            "line": {
             "colorbar": {
              "outlinewidth": 0,
              "ticks": ""
             }
            },
            "type": "parcoords"
           }
          ],
          "pie": [
           {
            "automargin": true,
            "type": "pie"
           }
          ],
          "scatter": [
           {
            "fillpattern": {
             "fillmode": "overlay",
             "size": 10,
             "solidity": 0.2
            },
            "type": "scatter"
           }
          ],
          "scatter3d": [
           {
            "line": {
             "colorbar": {
              "outlinewidth": 0,
              "ticks": ""
             }
            },
            "marker": {
             "colorbar": {
              "outlinewidth": 0,
              "ticks": ""
             }
            },
            "type": "scatter3d"
           }
          ],
          "scattercarpet": [
           {
            "marker": {
             "colorbar": {
              "outlinewidth": 0,
              "ticks": ""
             }
            },
            "type": "scattercarpet"
           }
          ],
          "scattergeo": [
           {
            "marker": {
             "colorbar": {
              "outlinewidth": 0,
              "ticks": ""
             }
            },
            "type": "scattergeo"
           }
          ],
          "scattergl": [
           {
            "marker": {
             "colorbar": {
              "outlinewidth": 0,
              "ticks": ""
             }
            },
            "type": "scattergl"
           }
          ],
          "scattermapbox": [
           {
            "marker": {
             "colorbar": {
              "outlinewidth": 0,
              "ticks": ""
             }
            },
            "type": "scattermapbox"
           }
          ],
          "scatterpolar": [
           {
            "marker": {
             "colorbar": {
              "outlinewidth": 0,
              "ticks": ""
             }
            },
            "type": "scatterpolar"
           }
          ],
          "scatterpolargl": [
           {
            "marker": {
             "colorbar": {
              "outlinewidth": 0,
              "ticks": ""
             }
            },
            "type": "scatterpolargl"
           }
          ],
          "scatterternary": [
           {
            "marker": {
             "colorbar": {
              "outlinewidth": 0,
              "ticks": ""
             }
            },
            "type": "scatterternary"
           }
          ],
          "surface": [
           {
            "colorbar": {
             "outlinewidth": 0,
             "ticks": ""
            },
            "colorscale": [
             [
              0,
              "#0d0887"
             ],
             [
              0.1111111111111111,
              "#46039f"
             ],
             [
              0.2222222222222222,
              "#7201a8"
             ],
             [
              0.3333333333333333,
              "#9c179e"
             ],
             [
              0.4444444444444444,
              "#bd3786"
             ],
             [
              0.5555555555555556,
              "#d8576b"
             ],
             [
              0.6666666666666666,
              "#ed7953"
             ],
             [
              0.7777777777777778,
              "#fb9f3a"
             ],
             [
              0.8888888888888888,
              "#fdca26"
             ],
             [
              1,
              "#f0f921"
             ]
            ],
            "type": "surface"
           }
          ],
          "table": [
           {
            "cells": {
             "fill": {
              "color": "#EBF0F8"
             },
             "line": {
              "color": "white"
             }
            },
            "header": {
             "fill": {
              "color": "#C8D4E3"
             },
             "line": {
              "color": "white"
             }
            },
            "type": "table"
           }
          ]
         },
         "layout": {
          "annotationdefaults": {
           "arrowcolor": "#2a3f5f",
           "arrowhead": 0,
           "arrowwidth": 1
          },
          "autotypenumbers": "strict",
          "coloraxis": {
           "colorbar": {
            "outlinewidth": 0,
            "ticks": ""
           }
          },
          "colorscale": {
           "diverging": [
            [
             0,
             "#8e0152"
            ],
            [
             0.1,
             "#c51b7d"
            ],
            [
             0.2,
             "#de77ae"
            ],
            [
             0.3,
             "#f1b6da"
            ],
            [
             0.4,
             "#fde0ef"
            ],
            [
             0.5,
             "#f7f7f7"
            ],
            [
             0.6,
             "#e6f5d0"
            ],
            [
             0.7,
             "#b8e186"
            ],
            [
             0.8,
             "#7fbc41"
            ],
            [
             0.9,
             "#4d9221"
            ],
            [
             1,
             "#276419"
            ]
           ],
           "sequential": [
            [
             0,
             "#0d0887"
            ],
            [
             0.1111111111111111,
             "#46039f"
            ],
            [
             0.2222222222222222,
             "#7201a8"
            ],
            [
             0.3333333333333333,
             "#9c179e"
            ],
            [
             0.4444444444444444,
             "#bd3786"
            ],
            [
             0.5555555555555556,
             "#d8576b"
            ],
            [
             0.6666666666666666,
             "#ed7953"
            ],
            [
             0.7777777777777778,
             "#fb9f3a"
            ],
            [
             0.8888888888888888,
             "#fdca26"
            ],
            [
             1,
             "#f0f921"
            ]
           ],
           "sequentialminus": [
            [
             0,
             "#0d0887"
            ],
            [
             0.1111111111111111,
             "#46039f"
            ],
            [
             0.2222222222222222,
             "#7201a8"
            ],
            [
             0.3333333333333333,
             "#9c179e"
            ],
            [
             0.4444444444444444,
             "#bd3786"
            ],
            [
             0.5555555555555556,
             "#d8576b"
            ],
            [
             0.6666666666666666,
             "#ed7953"
            ],
            [
             0.7777777777777778,
             "#fb9f3a"
            ],
            [
             0.8888888888888888,
             "#fdca26"
            ],
            [
             1,
             "#f0f921"
            ]
           ]
          },
          "colorway": [
           "#636efa",
           "#EF553B",
           "#00cc96",
           "#ab63fa",
           "#FFA15A",
           "#19d3f3",
           "#FF6692",
           "#B6E880",
           "#FF97FF",
           "#FECB52"
          ],
          "font": {
           "color": "#2a3f5f"
          },
          "geo": {
           "bgcolor": "white",
           "lakecolor": "white",
           "landcolor": "#E5ECF6",
           "showlakes": true,
           "showland": true,
           "subunitcolor": "white"
          },
          "hoverlabel": {
           "align": "left"
          },
          "hovermode": "closest",
          "mapbox": {
           "style": "light"
          },
          "paper_bgcolor": "white",
          "plot_bgcolor": "#E5ECF6",
          "polar": {
           "angularaxis": {
            "gridcolor": "white",
            "linecolor": "white",
            "ticks": ""
           },
           "bgcolor": "#E5ECF6",
           "radialaxis": {
            "gridcolor": "white",
            "linecolor": "white",
            "ticks": ""
           }
          },
          "scene": {
           "xaxis": {
            "backgroundcolor": "#E5ECF6",
            "gridcolor": "white",
            "gridwidth": 2,
            "linecolor": "white",
            "showbackground": true,
            "ticks": "",
            "zerolinecolor": "white"
           },
           "yaxis": {
            "backgroundcolor": "#E5ECF6",
            "gridcolor": "white",
            "gridwidth": 2,
            "linecolor": "white",
            "showbackground": true,
            "ticks": "",
            "zerolinecolor": "white"
           },
           "zaxis": {
            "backgroundcolor": "#E5ECF6",
            "gridcolor": "white",
            "gridwidth": 2,
            "linecolor": "white",
            "showbackground": true,
            "ticks": "",
            "zerolinecolor": "white"
           }
          },
          "shapedefaults": {
           "line": {
            "color": "#2a3f5f"
           }
          },
          "ternary": {
           "aaxis": {
            "gridcolor": "white",
            "linecolor": "white",
            "ticks": ""
           },
           "baxis": {
            "gridcolor": "white",
            "linecolor": "white",
            "ticks": ""
           },
           "bgcolor": "#E5ECF6",
           "caxis": {
            "gridcolor": "white",
            "linecolor": "white",
            "ticks": ""
           }
          },
          "title": {
           "x": 0.05
          },
          "xaxis": {
           "automargin": true,
           "gridcolor": "white",
           "linecolor": "white",
           "ticks": "",
           "title": {
            "standoff": 15
           },
           "zerolinecolor": "white",
           "zerolinewidth": 2
          },
          "yaxis": {
           "automargin": true,
           "gridcolor": "white",
           "linecolor": "white",
           "ticks": "",
           "title": {
            "standoff": 15
           },
           "zerolinecolor": "white",
           "zerolinewidth": 2
          }
         }
        }
       }
      },
      "image/png": "[encoded data removed]",
      "text/html": [
       "<div>                            <div id=\"bcfc16d1-f296-4347-abfb-c6aa06e068d3\" class=\"plotly-graph-div\" style=\"height:525px; width:100%;\"></div>            <script type=\"text/javascript\">                require([\"plotly\"], function(Plotly) {                    window.PLOTLYENV=window.PLOTLYENV || {};                                    if (document.getElementById(\"bcfc16d1-f296-4347-abfb-c6aa06e068d3\")) {                    Plotly.newPlot(                        \"bcfc16d1-f296-4347-abfb-c6aa06e068d3\",                        [{\"hovertemplate\":\"feature1=%{x}<br>feature2=%{y}<br>target=%{z}<extra></extra>\",\"legendgroup\":\"\",\"marker\":{\"color\":\"#636efa\",\"symbol\":\"circle\"},\"mode\":\"markers\",\"name\":\"\",\"scene\":\"scene\",\"showlegend\":false,\"x\":[1.0049884979102934,1.3381151487666827,1.1060295580267034,-0.1199421278162053,1.0594469493969807,1.3864307207496616,-0.3999536234496911,0.5593929819633274,-0.24295393225363776,0.7476448867407703,0.9555460251312056,-0.420527491308634,0.7556341021040245,0.5453166704740124,-1.3834488566633898,1.25390145627475,-0.2214380269335202,1.6918866546039641,0.5990291647855681,1.890443125560766,-0.437323332200744,0.542072227047971,2.267816811576371,0.3722846772983979,0.8612561247061813,0.11315053845233453,-0.7795165496657225,-0.5074507405027577,0.12289084016062676,-0.21610409473938677,1.0319514203292082,1.7935336707291216,-0.28447796495475725,-0.4691918587870412,0.8940902588191615,-1.528359406854796,-1.563619456266562,0.6151902299094384,-0.9063775300452546,-1.2410493136683354,-2.158185895759363,-1.4460819375756289,0.9600413927980754,1.4203495140832674,-0.8024548877873725,-0.8227380857186661,0.9261459212035833,-1.35053868653961,-0.5492097803592388,-0.7388609452788539,-0.16472832104826432,-0.08443546992565545,0.7237611467839222,-0.12813557647171528,0.19554757543889317,2.067198583668623,-0.14169485294885878,-0.7273415039344804,1.1713501943583005,-0.7519587045163647,-0.7142008807107634,-0.11890160416211128,1.3112714484851258,-0.945354238984346,-2.3719462793481814,-1.291295036199262,0.5409722499750879,-0.5801107678679549,-0.8260509224532349,-0.40778426125905054,1.1301146362480097,-0.8946983158085063,-1.4049134087697575,-1.4920213765006776,-1.5044478171689444,-1.6407369829749359,-0.22999282858853917,0.09211482280667291,-0.03243577320510026,0.08499614311704577,0.017289461871653537,-1.4759792899773094,-0.451760632266823,0.07835994618568325,-0.10569352108186487,0.5813169985367249,0.0037460733460772944,0.4210487463736586,0.5387753127002619,0.6433185652710519,-0.17214196477048951,1.8635989968531412,1.3833859552833119,1.4708045541678354,-0.2578070083294541,-0.17149383647702346,1.0003019539939983,0.4118200688158286,-1.0870307802378352,0.0048905590528915376],\"y\":[1.6306922677168567,0.15776341786192077,-0.4315923337845563,-0.5273770502489823,0.04728427056690038,0.777702944884017,0.06840807879798594,-0.822176005366966,-0.7410457549165759,0.7453663696302633,0.42099906240634255,-0.4897250752527722,1.2146286286044607,-1.501132321214499,-0.13592072561936028,-0.0287181145067554,-0.5566413777632078,1.6789573157988646,-3.3666327637333975,-0.6918662443609727,-1.4280241458991156,0.7303418421345954,-0.8025840190857594,-0.1440982231013727,0.6505678588222775,0.26205050335378843,1.3448955996013736,-0.6326495584423955,2.417563444242384,-0.7189648439917433,0.9159620068083497,-0.05269816882078061,0.8767163181532749,-0.5964020802061551,1.5500137559392897,-0.02582052002482465,0.39810944985607105,0.7688615041443161,0.10358847729202467,1.4115139602854894,0.8847351276823553,0.14490586207987352,-0.19996243384067902,0.033128525026269076,0.8777673797137127,0.9759796784185176,-0.10083993445708729,0.633303828688496,-0.2664201310595014,-0.5352940798889892,-2.8382913491443333,0.8521266615239709,0.4886692577841056,1.2647575624257268,-1.0284361176348744,1.1400685946789813,1.1940339230727697,-0.4166603245796782,0.34185901566784416,-0.44987780701157803,0.32552005912928966,-0.4096488735876434,0.9374417881316793,-0.6645108901966568,-1.0572749203759795,-0.6053641275151694,1.7599318777647526,-0.7924406971450773,1.9754043048909844,0.31672880093360284,-0.5944979231276727,-1.1128915605605045,-1.1995458718869736,-0.9216296924753127,-0.6449413321367947,0.9314448703874697,2.1780295145947806,-0.6519176251104043,0.05793406763024523,-0.28638388343755733,1.002353303944931,0.5892668787624792,0.9468110001608988,-0.2572388864158428,0.4308342181296319,0.3068701197715133,0.2001521190838508,0.09894706588145333,-0.5583694212881238,0.4464040842157458,-1.6709336788194311,0.026628571128061364,-0.5722901417629366,0.15168195227216885,-1.795382603491215,1.0362106661924388,-1.513517555066088,1.0032788806420108,-0.11803819564202794,-0.007993142120521667],\"z\":[170.4291331395732,118.5729525361102,-9.866659345765711,-71.92678821482221,181.14072260955828,69.8282191620433,-37.617630630505936,4.994506294057018,9.253410674440978,83.15096386277818,145.7062126910099,-18.178649791434182,157.8510339408411,-15.270314581669483,-156.00045290644496,150.09874134622666,-21.714171356522666,299.31931994297446,-56.66587601147589,63.335528923741165,-130.31536505747928,108.53906285036356,153.1120782793787,-4.513771950713156,-2.8607476861141947,24.884531374255438,-93.09196211442597,-33.2274713934538,45.39700868101227,6.1060776230295275,61.801769974702594,235.8465899993606,24.01126183907557,-145.45411153887045,71.49073643851918,-107.31790543509135,-131.70734698406625,34.333592737580595,-34.419604748002854,-46.83699323073496,-204.97771924621483,-135.12125875450394,137.47993472666357,116.78023348730042,-41.35903006035429,-94.71876961944837,143.90274860551338,-125.56516812410686,-91.936307292718,-133.76410774455144,-72.68335180169163,3.079698469536371,40.671001299273925,76.3870700536086,-5.905986652706735,298.7294521417748,-8.037291376594307,-139.31736620131954,187.9404336546216,-94.2957885048059,-5.379714158637086,-18.361909493768305,139.72160890286406,-80.14819825583552,-300.3288337707688,-147.44888430553019,143.6384370283025,-57.31860375068868,23.61747194631156,-50.607261755402774,105.21117290576798,-169.84578540123147,-193.31349848040367,-141.61644311573966,-134.04378853766434,-113.37222770238361,47.89582807467609,0.649466559798455,20.038239930984048,-59.44610783641363,21.558785518722104,-162.09535173454267,3.5014226502721346,-40.14920507035279,43.77983891871369,100.30757473560661,16.004059489009997,101.98203022013028,14.303070542034344,156.0850659961179,-50.83680240758642,132.24360496131246,78.48111494147672,167.44445856013766,-44.817610322736506,-44.363078778510314,-7.906560842550121,129.16984273177692,-167.20425558701794,34.63843231092544],\"type\":\"scatter3d\"},{\"x\":[-5.0,-3.888888888888889,-2.7777777777777777,-1.6666666666666665,-0.5555555555555554,0.5555555555555554,1.666666666666667,2.7777777777777786,3.8888888888888893,5.0],\"y\":[-5.0,-3.888888888888889,-2.7777777777777777,-1.6666666666666665,-0.5555555555555554,0.5555555555555554,1.666666666666667,2.7777777777777786,3.8888888888888893,5.0],\"z\":[[-636.9024104737418,-532.5955055571833,-428.28860064062457,-323.9816957240659,-219.6747908075073,-115.36788589094873,-11.06098097439008,93.24592394216859,197.5528288587272,301.85973377528575],[-599.5435892850794,-495.2366843685207,-390.92977945196213,-286.62287453540347,-182.31596961884486,-78.00906470228627,26.29784021427238,130.60474513083105,234.91165004738966,339.2185549639482],[-562.1847680964169,-457.87786317985825,-353.57095826329964,-249.26405334674098,-144.95714843018237,-40.65024351362379,63.65666140293486,167.9635663194935,272.2704712360521,376.57737615261067],[-524.8259469077544,-420.51904199119576,-316.21213707463716,-211.90523215807852,-107.5983272415199,-3.291422324961321,101.01548259159733,205.322387508156,309.6292924247146,413.93619734127316],[-487.4671257190919,-383.1602208025333,-278.85331588597467,-174.54641096941606,-70.23950605285742,34.06739886370116,138.37430378025982,242.6812086968185,346.9881136133771,451.29501852993565],[-450.10830453042945,-345.80139961387084,-241.49449469731223,-137.18758978075357,-32.88068486419496,71.42622005236362,175.73312496892225,280.0400298854809,384.3469348020395,488.6538397185981],[-412.74948334176696,-308.44257842520835,-204.13567350864975,-99.8287685920911,4.478136324467524,108.78504124102611,213.09194615758474,317.3988510741434,421.705755990702,526.0126609072605],[-375.3906621531045,-271.08375723654586,-166.77685231998726,-62.469947403428606,41.83695751313002,146.1438624296886,250.45076734624723,354.7576722628059,459.0645771793645,563.371482095923],[-338.031840964442,-233.7249360478834,-129.4180311313248,-25.111126214766163,79.19577870179246,183.50268361835106,287.80958853490966,392.11649345146833,496.423398368027,600.7303032845855],[-300.67301977577955,-196.36611485922094,-92.05920994266233,12.247694973896298,116.55459989045492,220.8615048070135,325.16840972357215,429.4753146401308,533.7822195566894,638.0891244732479]],\"type\":\"surface\"}],                        {\"template\":{\"data\":{\"histogram2dcontour\":[{\"type\":\"histogram2dcontour\",\"colorbar\":{\"outlinewidth\":0,\"ticks\":\"\"},\"colorscale\":[[0.0,\"#0d0887\"],[0.1111111111111111,\"#46039f\"],[0.2222222222222222,\"#7201a8\"],[0.3333333333333333,\"#9c179e\"],[0.4444444444444444,\"#bd3786\"],[0.5555555555555556,\"#d8576b\"],[0.6666666666666666,\"#ed7953\"],[0.7777777777777778,\"#fb9f3a\"],[0.8888888888888888,\"#fdca26\"],[1.0,\"#f0f921\"]]}],\"choropleth\":[{\"type\":\"choropleth\",\"colorbar\":{\"outlinewidth\":0,\"ticks\":\"\"}}],\"histogram2d\":[{\"type\":\"histogram2d\",\"colorbar\":{\"outlinewidth\":0,\"ticks\":\"\"},\"colorscale\":[[0.0,\"#0d0887\"],[0.1111111111111111,\"#46039f\"],[0.2222222222222222,\"#7201a8\"],[0.3333333333333333,\"#9c179e\"],[0.4444444444444444,\"#bd3786\"],[0.5555555555555556,\"#d8576b\"],[0.6666666666666666,\"#ed7953\"],[0.7777777777777778,\"#fb9f3a\"],[0.8888888888888888,\"#fdca26\"],[1.0,\"#f0f921\"]]}],\"heatmap\":[{\"type\":\"heatmap\",\"colorbar\":{\"outlinewidth\":0,\"ticks\":\"\"},\"colorscale\":[[0.0,\"#0d0887\"],[0.1111111111111111,\"#46039f\"],[0.2222222222222222,\"#7201a8\"],[0.3333333333333333,\"#9c179e\"],[0.4444444444444444,\"#bd3786\"],[0.5555555555555556,\"#d8576b\"],[0.6666666666666666,\"#ed7953\"],[0.7777777777777778,\"#fb9f3a\"],[0.8888888888888888,\"#fdca26\"],[1.0,\"#f0f921\"]]}],\"heatmapgl\":[{\"type\":\"heatmapgl\",\"colorbar\":{\"outlinewidth\":0,\"ticks\":\"\"},\"colorscale\":[[0.0,\"#0d0887\"],[0.1111111111111111,\"#46039f\"],[0.2222222222222222,\"#7201a8\"],[0.3333333333333333,\"#9c179e\"],[0.4444444444444444,\"#bd3786\"],[0.5555555555555556,\"#d8576b\"],[0.6666666666666666,\"#ed7953\"],[0.7777777777777778,\"#fb9f3a\"],[0.8888888888888888,\"#fdca26\"],[1.0,\"#f0f921\"]]}],\"contourcarpet\":[{\"type\":\"contourcarpet\",\"colorbar\":{\"outlinewidth\":0,\"ticks\":\"\"}}],\"contour\":[{\"type\":\"contour\",\"colorbar\":{\"outlinewidth\":0,\"ticks\":\"\"},\"colorscale\":[[0.0,\"#0d0887\"],[0.1111111111111111,\"#46039f\"],[0.2222222222222222,\"#7201a8\"],[0.3333333333333333,\"#9c179e\"],[0.4444444444444444,\"#bd3786\"],[0.5555555555555556,\"#d8576b\"],[0.6666666666666666,\"#ed7953\"],[0.7777777777777778,\"#fb9f3a\"],[0.8888888888888888,\"#fdca26\"],[1.0,\"#f0f921\"]]}],\"surface\":[{\"type\":\"surface\",\"colorbar\":{\"outlinewidth\":0,\"ticks\":\"\"},\"colorscale\":[[0.0,\"#0d0887\"],[0.1111111111111111,\"#46039f\"],[0.2222222222222222,\"#7201a8\"],[0.3333333333333333,\"#9c179e\"],[0.4444444444444444,\"#bd3786\"],[0.5555555555555556,\"#d8576b\"],[0.6666666666666666,\"#ed7953\"],[0.7777777777777778,\"#fb9f3a\"],[0.8888888888888888,\"#fdca26\"],[1.0,\"#f0f921\"]]}],\"mesh3d\":[{\"type\":\"mesh3d\",\"colorbar\":{\"outlinewidth\":0,\"ticks\":\"\"}}],\"scatter\":[{\"fillpattern\":{\"fillmode\":\"overlay\",\"size\":10,\"solidity\":0.2},\"type\":\"scatter\"}],\"parcoords\":[{\"type\":\"parcoords\",\"line\":{\"colorbar\":{\"outlinewidth\":0,\"ticks\":\"\"}}}],\"scatterpolargl\":[{\"type\":\"scatterpolargl\",\"marker\":{\"colorbar\":{\"outlinewidth\":0,\"ticks\":\"\"}}}],\"bar\":[{\"error_x\":{\"color\":\"#2a3f5f\"},\"error_y\":{\"color\":\"#2a3f5f\"},\"marker\":{\"line\":{\"color\":\"#E5ECF6\",\"width\":0.5},\"pattern\":{\"fillmode\":\"overlay\",\"size\":10,\"solidity\":0.2}},\"type\":\"bar\"}],\"scattergeo\":[{\"type\":\"scattergeo\",\"marker\":{\"colorbar\":{\"outlinewidth\":0,\"ticks\":\"\"}}}],\"scatterpolar\":[{\"type\":\"scatterpolar\",\"marker\":{\"colorbar\":{\"outlinewidth\":0,\"ticks\":\"\"}}}],\"histogram\":[{\"marker\":{\"pattern\":{\"fillmode\":\"overlay\",\"size\":10,\"solidity\":0.2}},\"type\":\"histogram\"}],\"scattergl\":[{\"type\":\"scattergl\",\"marker\":{\"colorbar\":{\"outlinewidth\":0,\"ticks\":\"\"}}}],\"scatter3d\":[{\"type\":\"scatter3d\",\"line\":{\"colorbar\":{\"outlinewidth\":0,\"ticks\":\"\"}},\"marker\":{\"colorbar\":{\"outlinewidth\":0,\"ticks\":\"\"}}}],\"scattermapbox\":[{\"type\":\"scattermapbox\",\"marker\":{\"colorbar\":{\"outlinewidth\":0,\"ticks\":\"\"}}}],\"scatterternary\":[{\"type\":\"scatterternary\",\"marker\":{\"colorbar\":{\"outlinewidth\":0,\"ticks\":\"\"}}}],\"scattercarpet\":[{\"type\":\"scattercarpet\",\"marker\":{\"colorbar\":{\"outlinewidth\":0,\"ticks\":\"\"}}}],\"carpet\":[{\"aaxis\":{\"endlinecolor\":\"#2a3f5f\",\"gridcolor\":\"white\",\"linecolor\":\"white\",\"minorgridcolor\":\"white\",\"startlinecolor\":\"#2a3f5f\"},\"baxis\":{\"endlinecolor\":\"#2a3f5f\",\"gridcolor\":\"white\",\"linecolor\":\"white\",\"minorgridcolor\":\"white\",\"startlinecolor\":\"#2a3f5f\"},\"type\":\"carpet\"}],\"table\":[{\"cells\":{\"fill\":{\"color\":\"#EBF0F8\"},\"line\":{\"color\":\"white\"}},\"header\":{\"fill\":{\"color\":\"#C8D4E3\"},\"line\":{\"color\":\"white\"}},\"type\":\"table\"}],\"barpolar\":[{\"marker\":{\"line\":{\"color\":\"#E5ECF6\",\"width\":0.5},\"pattern\":{\"fillmode\":\"overlay\",\"size\":10,\"solidity\":0.2}},\"type\":\"barpolar\"}],\"pie\":[{\"automargin\":true,\"type\":\"pie\"}]},\"layout\":{\"autotypenumbers\":\"strict\",\"colorway\":[\"#636efa\",\"#EF553B\",\"#00cc96\",\"#ab63fa\",\"#FFA15A\",\"#19d3f3\",\"#FF6692\",\"#B6E880\",\"#FF97FF\",\"#FECB52\"],\"font\":{\"color\":\"#2a3f5f\"},\"hovermode\":\"closest\",\"hoverlabel\":{\"align\":\"left\"},\"paper_bgcolor\":\"white\",\"plot_bgcolor\":\"#E5ECF6\",\"polar\":{\"bgcolor\":\"#E5ECF6\",\"angularaxis\":{\"gridcolor\":\"white\",\"linecolor\":\"white\",\"ticks\":\"\"},\"radialaxis\":{\"gridcolor\":\"white\",\"linecolor\":\"white\",\"ticks\":\"\"}},\"ternary\":{\"bgcolor\":\"#E5ECF6\",\"aaxis\":{\"gridcolor\":\"white\",\"linecolor\":\"white\",\"ticks\":\"\"},\"baxis\":{\"gridcolor\":\"white\",\"linecolor\":\"white\",\"ticks\":\"\"},\"caxis\":{\"gridcolor\":\"white\",\"linecolor\":\"white\",\"ticks\":\"\"}},\"coloraxis\":{\"colorbar\":{\"outlinewidth\":0,\"ticks\":\"\"}},\"colorscale\":{\"sequential\":[[0.0,\"#0d0887\"],[0.1111111111111111,\"#46039f\"],[0.2222222222222222,\"#7201a8\"],[0.3333333333333333,\"#9c179e\"],[0.4444444444444444,\"#bd3786\"],[0.5555555555555556,\"#d8576b\"],[0.6666666666666666,\"#ed7953\"],[0.7777777777777778,\"#fb9f3a\"],[0.8888888888888888,\"#fdca26\"],[1.0,\"#f0f921\"]],\"sequentialminus\":[[0.0,\"#0d0887\"],[0.1111111111111111,\"#46039f\"],[0.2222222222222222,\"#7201a8\"],[0.3333333333333333,\"#9c179e\"],[0.4444444444444444,\"#bd3786\"],[0.5555555555555556,\"#d8576b\"],[0.6666666666666666,\"#ed7953\"],[0.7777777777777778,\"#fb9f3a\"],[0.8888888888888888,\"#fdca26\"],[1.0,\"#f0f921\"]],\"diverging\":[[0,\"#8e0152\"],[0.1,\"#c51b7d\"],[0.2,\"#de77ae\"],[0.3,\"#f1b6da\"],[0.4,\"#fde0ef\"],[0.5,\"#f7f7f7\"],[0.6,\"#e6f5d0\"],[0.7,\"#b8e186\"],[0.8,\"#7fbc41\"],[0.9,\"#4d9221\"],[1,\"#276419\"]]},\"xaxis\":{\"gridcolor\":\"white\",\"linecolor\":\"white\",\"ticks\":\"\",\"title\":{\"standoff\":15},\"zerolinecolor\":\"white\",\"automargin\":true,\"zerolinewidth\":2},\"yaxis\":{\"gridcolor\":\"white\",\"linecolor\":\"white\",\"ticks\":\"\",\"title\":{\"standoff\":15},\"zerolinecolor\":\"white\",\"automargin\":true,\"zerolinewidth\":2},\"scene\":{\"xaxis\":{\"backgroundcolor\":\"#E5ECF6\",\"gridcolor\":\"white\",\"linecolor\":\"white\",\"showbackground\":true,\"ticks\":\"\",\"zerolinecolor\":\"white\",\"gridwidth\":2},\"yaxis\":{\"backgroundcolor\":\"#E5ECF6\",\"gridcolor\":\"white\",\"linecolor\":\"white\",\"showbackground\":true,\"ticks\":\"\",\"zerolinecolor\":\"white\",\"gridwidth\":2},\"zaxis\":{\"backgroundcolor\":\"#E5ECF6\",\"gridcolor\":\"white\",\"linecolor\":\"white\",\"showbackground\":true,\"ticks\":\"\",\"zerolinecolor\":\"white\",\"gridwidth\":2}},\"shapedefaults\":{\"line\":{\"color\":\"#2a3f5f\"}},\"annotationdefaults\":{\"arrowcolor\":\"#2a3f5f\",\"arrowhead\":0,\"arrowwidth\":1},\"geo\":{\"bgcolor\":\"white\",\"landcolor\":\"#E5ECF6\",\"subunitcolor\":\"white\",\"showland\":true,\"showlakes\":true,\"lakecolor\":\"white\"},\"title\":{\"x\":0.05},\"mapbox\":{\"style\":\"light\"}}},\"scene\":{\"domain\":{\"x\":[0.0,1.0],\"y\":[0.0,1.0]},\"xaxis\":{\"title\":{\"text\":\"feature1\"}},\"yaxis\":{\"title\":{\"text\":\"feature2\"}},\"zaxis\":{\"title\":{\"text\":\"target\"}}},\"legend\":{\"tracegroupgap\":0},\"margin\":{\"t\":60}},                        {\"responsive\": true}                    ).then(function(){\n",
       "                            \n",
       "var gd = document.getElementById('bcfc16d1-f296-4347-abfb-c6aa06e068d3');\n",
       "var x = new MutationObserver(function (mutations, observer) {{\n",
       "        var display = window.getComputedStyle(gd).display;\n",
       "        if (!display || display === 'none') {{\n",
       "            console.log([gd, 'removed!']);\n",
       "            Plotly.purge(gd);\n",
       "            observer.disconnect();\n",
       "        }}\n",
       "}});\n",
       "\n",
       "// Listen for the removal of the full notebook cells\n",
       "var notebookContainer = gd.closest('#notebook-container');\n",
       "if (notebookContainer) {{\n",
       "    x.observe(notebookContainer, {childList: true});\n",
       "}}\n",
       "\n",
       "// Listen for the clearing of the current output cell\n",
       "var outputEl = gd.closest('.output');\n",
       "if (outputEl) {{\n",
       "    x.observe(outputEl, {childList: true});\n",
       "}}\n",
       "\n",
       "                        })                };                });            </script>        </div>"
      ]
     },
     "metadata": {},
     "output_type": "display_data"
    }
   ],
   "source": [
    "fig = px.scatter_3d(df, x='feature1', y='feature2', z='target')\n",
    "\n",
    "fig.add_trace(go.Surface(x = x, y = y, z =z ))\n",
    "\n",
    "fig.show()"
   ]
  },
  {
   "cell_type": "code",
   "execution_count": 73,
   "metadata": {
    "colab": {
     "base_uri": "https://localhost:8080/"
    },
    "id": "YVdgVIn_5ElG",
    "outputId": "4981763b-d36e-4bf4-b5e1-b0d34c0ae2e7"
   },
   "outputs": [
    {
     "data": {
      "text/plain": [
       "array([93.87621442, 33.62293907])"
      ]
     },
     "execution_count": 73,
     "metadata": {},
     "output_type": "execute_result"
    }
   ],
   "source": [
    "lr.coef_ # beta1 and 2 value\n"
   ]
  },
  {
   "cell_type": "code",
   "execution_count": 74,
   "metadata": {
    "colab": {
     "base_uri": "https://localhost:8080/"
    },
    "id": "kIVDDKIynz1b",
    "outputId": "aed35369-2dfe-4dbd-d606-18550add93f5"
   },
   "outputs": [
    {
     "data": {
      "text/plain": [
       "0.5933569997530945"
      ]
     },
     "execution_count": 74,
     "metadata": {},
     "output_type": "execute_result"
    }
   ],
   "source": [
    "lr.intercept_ #b not"
   ]
  },
  {
   "cell_type": "code",
   "execution_count": null,
   "metadata": {
    "id": "m7ZOTCgen3l3"
   },
   "outputs": [],
   "source": []
  }
 ],
 "metadata": {
  "colab": {
   "name": "multiple-linear-regression.ipynb",
   "provenance": []
  },
  "kernelspec": {
   "display_name": "Python 3 (ipykernel)",
   "language": "python",
   "name": "python3"
  },
  "language_info": {
   "codemirror_mode": {
    "name": "ipython",
    "version": 3
   },
   "file_extension": ".py",
   "mimetype": "text/x-python",
   "name": "python",
   "nbconvert_exporter": "python",
   "pygments_lexer": "ipython3",
   "version": "3.10.9"
  }
 },
 "nbformat": 4,
 "nbformat_minor": 4
}
