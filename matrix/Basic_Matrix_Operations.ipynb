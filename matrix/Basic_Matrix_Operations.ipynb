{
  "nbformat": 4,
  "nbformat_minor": 0,
  "metadata": {
    "colab": {
      "provenance": []
    },
    "kernelspec": {
      "name": "python3",
      "display_name": "Python 3"
    },
    "language_info": {
      "name": "python"
    }
  },
  "cells": [
    {
      "cell_type": "markdown",
      "source": [
        "MATRIX **ADDITION**"
      ],
      "metadata": {
        "id": "iPxxkETiHRiY"
      }
    },
    {
      "cell_type": "code",
      "source": [
        "def addition(A,B):\n",
        "  rows=len(A)\n",
        "  columns=len(A[0])\n",
        "\n",
        "\n",
        "  C = [[0  for j in  range(rows)  ]for i in range(columns)]\n",
        "\n",
        "  for i in range(rows):\n",
        "    for j in range(columns):\n",
        "      C[i][j]=A[i][j] + B[i][j]\n",
        "  return C\n",
        "\n",
        "\n",
        "A=[[1,2,3],[4,5,6],[7,8,9]]\n",
        "B=[[1,2,3],[4,5,6],[7,8,9]]\n",
        "\n",
        "C=addition(A,B)\n",
        "print(C)\n",
        "\n",
        "\n"
      ],
      "metadata": {
        "colab": {
          "base_uri": "https://localhost:8080/"
        },
        "id": "SPx5_Vz8Ham8",
        "outputId": "8a29101a-202b-4817-afac-447fabfb11bd"
      },
      "execution_count": null,
      "outputs": [
        {
          "output_type": "stream",
          "name": "stdout",
          "text": [
            "[[2, 4, 6], [8, 10, 12], [14, 16, 18]]\n"
          ]
        }
      ]
    },
    {
      "cell_type": "markdown",
      "source": [
        "**Example 2 for addition**"
      ],
      "metadata": {
        "id": "h8l1FsF5JQr_"
      }
    },
    {
      "cell_type": "code",
      "source": [
        "def matrix_sumy(a,b):\n",
        "  row=len(a)\n",
        "  colum=len(a[0])\n",
        "  result=[[0 for i in range(row)] for j in range(colum)]\n",
        "  for i in range(row):\n",
        "    for j in range(colum):\n",
        "      result[i][j] = a[i][j] + b[i][j]\n",
        "  return result\n",
        "\n",
        "a=[[1,2],[10,20]]\n",
        "b=[[1,2],[10,20]]\n",
        "c=matrix_sumy(a,b)\n",
        "print(c)\n",
        "\n"
      ],
      "metadata": {
        "colab": {
          "base_uri": "https://localhost:8080/"
        },
        "id": "38ktlaZ9JUgK",
        "outputId": "9bb65048-d5e4-4500-ad8d-ec5930c978ff"
      },
      "execution_count": null,
      "outputs": [
        {
          "output_type": "stream",
          "name": "stdout",
          "text": [
            "[[2, 4], [20, 40]]\n"
          ]
        }
      ]
    },
    {
      "cell_type": "markdown",
      "source": [
        "**example 3 of addition**"
      ],
      "metadata": {
        "id": "KVMgN4NeNI2L"
      }
    },
    {
      "cell_type": "code",
      "source": [
        "def addition(Matrix1,Matrix2):\n",
        "  rows=len(Matrix1)\n",
        "  column=len(Matrix1[0])\n",
        "\n",
        "  Total=[[0 for j in range(rows)] for i in range(column)]\n",
        "\n",
        "  for i in range(rows):\n",
        "    for j in range(column):\n",
        "      Total[i][j] = Matrix1[i][j] + Matrix2[i][j]\n",
        "  return Total\n",
        "\n",
        "a=[[23,45,67,78],[1,2,3,5],[12,34,56,78],[123,345,5678,865]]\n",
        "b=[[23,45,67,78],[1,2,3,5],[12,34,56,78],[123,345,5678,865]]\n",
        "\n",
        "c=addition(a,b)\n",
        "print('Sum of 2 matrix is : ',c)"
      ],
      "metadata": {
        "colab": {
          "base_uri": "https://localhost:8080/"
        },
        "id": "s8I5pOc-NUlP",
        "outputId": "1ab17dcc-99c7-4769-eb0b-db7d515ae1f3"
      },
      "execution_count": null,
      "outputs": [
        {
          "output_type": "stream",
          "name": "stdout",
          "text": [
            "Sum of 2 matrix is :  [[46, 90, 134, 156], [2, 4, 6, 10], [24, 68, 112, 156], [246, 690, 11356, 1730]]\n"
          ]
        }
      ]
    },
    {
      "cell_type": "markdown",
      "source": [
        "**Matrix Substraction**"
      ],
      "metadata": {
        "id": "fwV9hoO-PCF2"
      }
    },
    {
      "cell_type": "code",
      "source": [
        "def Matrix_substration(a,b):\n",
        "  r=len(a)\n",
        "  c=len(a[0])\n",
        "\n",
        "  result=[[ 0 for j in range(c)] for i in range(r)]\n",
        "\n",
        "  for i in range(r):\n",
        "    for j in range(c):\n",
        "      result[i][j]= a[i][j] - b[i][j]\n",
        "\n",
        "  return result\n",
        "\n",
        "M1=[[12,13,14],[21,34,53],[103,421,562]]\n",
        "M2=[[10,3,4],[12,23,354],[4,23,421]]\n",
        "\n",
        "Tot=Matrix_substration(M1,M2)\n",
        "print(\"Reult is : \",Tot)\n",
        "\n"
      ],
      "metadata": {
        "colab": {
          "base_uri": "https://localhost:8080/"
        },
        "id": "5w0K0IRsPvyf",
        "outputId": "01400744-daf6-47d3-ff30-a49d5cd5429d"
      },
      "execution_count": null,
      "outputs": [
        {
          "output_type": "stream",
          "name": "stdout",
          "text": [
            "Reult is :  [[2, 10, 10], [9, 11, -301], [99, 398, 141]]\n"
          ]
        }
      ]
    },
    {
      "cell_type": "markdown",
      "source": [
        "**Matrix Multiplication**"
      ],
      "metadata": {
        "id": "Suxu9P1yRb9o"
      }
    },
    {
      "cell_type": "code",
      "source": [
        "def mul(a,b):\n",
        "  row_a=len(a)\n",
        "  col_a=len(a[0])\n",
        "  row_b=len(b)\n",
        "  col_b=len(b[0])\n",
        "  product= [[0 for j in range(col_b)]for i in range(row_a)]\n",
        "  for i in range(row_a):\n",
        "    for j in range(col_a):\n",
        "      for k in range(col_b):\n",
        "        product[i][j] +=a[i][k] * b[k][j]\n",
        "\n",
        "  return product\n",
        "#No.of column in 1st matrix = no.of column in 2nd matrix\n",
        "a=[[1,2],[2,3],[1,2],[45,45],[500,56]]\n",
        "b=[[10,20],[5,10]]\n",
        "\n",
        "c=mul(a,b)\n",
        "c\n"
      ],
      "metadata": {
        "colab": {
          "base_uri": "https://localhost:8080/"
        },
        "id": "KycTz4oPRfhQ",
        "outputId": "a98ce7ce-dfe2-4522-9e9c-3e405dfd4a23"
      },
      "execution_count": 45,
      "outputs": [
        {
          "output_type": "execute_result",
          "data": {
            "text/plain": [
              "[[20, 40], [35, 70], [20, 40], [675, 1350], [5280, 10560]]"
            ]
          },
          "metadata": {},
          "execution_count": 45
        }
      ]
    },
    {
      "cell_type": "markdown",
      "source": [],
      "metadata": {
        "id": "ighVBuUVWdhB"
      }
    },
    {
      "cell_type": "markdown",
      "source": [],
      "metadata": {
        "id": "gBUs-Tx-WeSe"
      }
    },
    {
      "cell_type": "code",
      "source": [
        "# matrix_a = [[1, 2], [3, 4]]\n",
        "# matrix_b = [[5, 6], [7, 8]]\n",
        "matrix_a=[[1,2],[2,3]]\n",
        "matrix_b=[[10,20],[5,10]]\n",
        "result = [[0, 0], [0, 0]]\n",
        "\n",
        "for i in range(len(matrix_a)):\n",
        "    for j in range(len(matrix_b[0])):\n",
        "        for k in range(len(matrix_b)):\n",
        "            result[i][j] += matrix_a[i][k] * matrix_b[k][j]\n",
        "\n",
        "print(result)"
      ],
      "metadata": {
        "colab": {
          "base_uri": "https://localhost:8080/"
        },
        "id": "wmeglzPKT3hK",
        "outputId": "3a907626-3048-4320-a9be-9138d271ec1a"
      },
      "execution_count": 24,
      "outputs": [
        {
          "output_type": "stream",
          "name": "stdout",
          "text": [
            "[[20, 40], [35, 70]]\n"
          ]
        }
      ]
    },
    {
      "cell_type": "code",
      "source": [
        "a=[[1,2],[2,3]]\n",
        "b=[[10,20],[5,10]]\n",
        "c=[[0,0],[0,0]]\n",
        "\n",
        "for i in range(len(a)):\n",
        "  for j in range(len(b[0])):\n",
        "    for k in range(len(b)):\n",
        "      c[i][j] += a[i][k] * b[k][j]\n",
        "      \n",
        "\n",
        "print(c)"
      ],
      "metadata": {
        "colab": {
          "base_uri": "https://localhost:8080/"
        },
        "id": "Ayp82seZPQos",
        "outputId": "81c240de-17cc-4ef8-b319-dc0734e53d96"
      },
      "execution_count": 26,
      "outputs": [
        {
          "output_type": "stream",
          "name": "stdout",
          "text": [
            "[[20, 40], [35, 70]]\n"
          ]
        }
      ]
    },
    {
      "cell_type": "markdown",
      "source": [
        "Muliplication"
      ],
      "metadata": {
        "id": "uZyILSJ8WgQo"
      }
    },
    {
      "cell_type": "code",
      "source": [
        "def multy(a,b):\n",
        "  r1=len(a)\n",
        "  c1=len(a[0])\n",
        "  r2=len(b)\n",
        "  c2=len(b[0])\n",
        "\n",
        "  result=[[0 for j in range(c1)]for i in range(r1)]\n",
        "  \n",
        "  for i in range(r1):\n",
        "    for j in range(c2):\n",
        "      for k in range(r2):\n",
        "        result[i][j] += a[i][k] * b[k][j]\n",
        "  return result\n",
        "\n",
        "a=[[1, 2], [3, 4]]\n",
        "b=[[5, 6], [7, 8]]\n",
        "z=multy(a,b)\n",
        "print(z)"
      ],
      "metadata": {
        "colab": {
          "base_uri": "https://localhost:8080/"
        },
        "id": "HT_yybJJWrOW",
        "outputId": "4f0a7bdf-f300-4e91-95c8-51787909dd1e"
      },
      "execution_count": 62,
      "outputs": [
        {
          "output_type": "stream",
          "name": "stdout",
          "text": [
            "[[19, 22], [43, 50]]\n"
          ]
        }
      ]
    }
  ]
}