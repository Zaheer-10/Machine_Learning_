{
 "cells": [
  {
   "cell_type": "markdown",
   "id": "4c73e030",
   "metadata": {},
   "source": [
    "Numpy"
   ]
  },
  {
   "cell_type": "code",
   "execution_count": 3,
   "id": "85f95b34",
   "metadata": {},
   "outputs": [],
   "source": [
    "import numpy as np\n"
   ]
  },
  {
   "cell_type": "code",
   "execution_count": 202,
   "id": "9eb3ab2a",
   "metadata": {
    "scrolled": false
   },
   "outputs": [
    {
     "name": "stdout",
     "output_type": "stream",
     "text": [
      "28000\n",
      "8000\n"
     ]
    }
   ],
   "source": [
    "import time\n",
    "import sys\n",
    "S= range(1000)\n",
    "print(sys.getsizeof(5)*len(S)) \n",
    "D= np.arange(1000)\n",
    "print(D.size*D.itemsize) #memory allocated"
   ]
  },
  {
   "cell_type": "code",
   "execution_count": 206,
   "id": "0da99dde",
   "metadata": {
    "scrolled": false
   },
   "outputs": [
    {
     "name": "stdout",
     "output_type": "stream",
     "text": [
      "[1 2 3 4 5]\n"
     ]
    },
    {
     "data": {
      "text/plain": [
       "8"
      ]
     },
     "execution_count": 206,
     "metadata": {},
     "output_type": "execute_result"
    }
   ],
   "source": [
    "#One Dimensional Arayy\n",
    "a=np.array([1,2,3,4,5])\n",
    "print(a)\n",
    "a.itemsize  #calculating the byte size of each element"
   ]
  },
  {
   "cell_type": "code",
   "execution_count": 207,
   "id": "db2fe718",
   "metadata": {},
   "outputs": [
    {
     "data": {
      "text/plain": [
       "dtype('int64')"
      ]
     },
     "execution_count": 207,
     "metadata": {},
     "output_type": "execute_result"
    }
   ],
   "source": [
    "a.dtype"
   ]
  },
  {
   "cell_type": "code",
   "execution_count": 8,
   "id": "7d592ccd",
   "metadata": {},
   "outputs": [
    {
     "data": {
      "text/plain": [
       "2"
      ]
     },
     "execution_count": 8,
     "metadata": {},
     "output_type": "execute_result"
    }
   ],
   "source": [
    "a[1]"
   ]
  },
  {
   "cell_type": "code",
   "execution_count": 9,
   "id": "cf6915bd",
   "metadata": {},
   "outputs": [
    {
     "data": {
      "text/plain": [
       "(5,)"
      ]
     },
     "execution_count": 9,
     "metadata": {},
     "output_type": "execute_result"
    }
   ],
   "source": [
    "a.shape"
   ]
  },
  {
   "cell_type": "code",
   "execution_count": 14,
   "id": "251c7d3b",
   "metadata": {},
   "outputs": [
    {
     "data": {
      "text/plain": [
       "array([[1, 2, 3, 4, 5, 6]])"
      ]
     },
     "execution_count": 14,
     "metadata": {},
     "output_type": "execute_result"
    }
   ],
   "source": [
    "#2D\n",
    "b=np.array([[1,2,3,4,5,6]])\n",
    "\n",
    "b"
   ]
  },
  {
   "cell_type": "code",
   "execution_count": 15,
   "id": "9f46a643",
   "metadata": {},
   "outputs": [
    {
     "data": {
      "text/plain": [
       "(1, 6)"
      ]
     },
     "execution_count": 15,
     "metadata": {},
     "output_type": "execute_result"
    }
   ],
   "source": [
    "b.shape"
   ]
  },
  {
   "cell_type": "code",
   "execution_count": 16,
   "id": "e622e20f",
   "metadata": {},
   "outputs": [
    {
     "data": {
      "text/plain": [
       "array([[1, 2, 3],\n",
       "       [4, 5, 6]])"
      ]
     },
     "execution_count": 16,
     "metadata": {},
     "output_type": "execute_result"
    }
   ],
   "source": [
    "b.reshape(2,3)"
   ]
  },
  {
   "cell_type": "code",
   "execution_count": 32,
   "id": "71f0b48d",
   "metadata": {},
   "outputs": [
    {
     "data": {
      "text/plain": [
       "6"
      ]
     },
     "execution_count": 32,
     "metadata": {},
     "output_type": "execute_result"
    }
   ],
   "source": [
    "c=np.random.randint(1,10) # random number\n",
    "c"
   ]
  },
  {
   "cell_type": "code",
   "execution_count": 38,
   "id": "69d2559b",
   "metadata": {},
   "outputs": [
    {
     "data": {
      "text/plain": [
       "[[1, 2, 3, 4, 5], [6, 7, 8, 9, 10], [11, 12, 13, 14, 15]]"
      ]
     },
     "execution_count": 38,
     "metadata": {},
     "output_type": "execute_result"
    }
   ],
   "source": [
    "two_d=[[1,2,3,4,5],[6,7,8,9,10],[11,12,13,14,15]]\n",
    "two_d"
   ]
  },
  {
   "cell_type": "code",
   "execution_count": 43,
   "id": "e84dd888",
   "metadata": {},
   "outputs": [
    {
     "data": {
      "text/plain": [
       "array([[1, 1, 1, 1, 1],\n",
       "       [1, 1, 1, 1, 1]])"
      ]
     },
     "execution_count": 43,
     "metadata": {},
     "output_type": "execute_result"
    }
   ],
   "source": [
    "np.ones(10, dtype=int).reshape(2,5)"
   ]
  },
  {
   "cell_type": "code",
   "execution_count": 45,
   "id": "bc169cd6",
   "metadata": {},
   "outputs": [
    {
     "data": {
      "text/plain": [
       "array([[0, 0, 0, 0],\n",
       "       [0, 0, 0, 0],\n",
       "       [0, 0, 0, 0],\n",
       "       [0, 0, 0, 0],\n",
       "       [0, 0, 0, 0]])"
      ]
     },
     "execution_count": 45,
     "metadata": {},
     "output_type": "execute_result"
    }
   ],
   "source": [
    "np.zeros(20,dtype=int).reshape(5,4)"
   ]
  },
  {
   "cell_type": "code",
   "execution_count": 48,
   "id": "4393d69c",
   "metadata": {},
   "outputs": [
    {
     "data": {
      "text/plain": [
       "array([[0.69741708, 0.9360746 , 0.80533393, 0.17890998, 0.13610336],\n",
       "       [0.08733302, 0.6857792 , 0.36850067, 0.87289385, 0.64673311],\n",
       "       [0.17690686, 0.87484297, 0.01996013, 0.49574177, 0.72907877],\n",
       "       [0.48870447, 0.98632388, 0.11192984, 0.07531356, 0.54047669],\n",
       "       [0.03178459, 0.24985846, 0.31002215, 0.1984783 , 0.03344516]])"
      ]
     },
     "execution_count": 48,
     "metadata": {},
     "output_type": "execute_result"
    }
   ],
   "source": [
    "np.random.rand(5,5)"
   ]
  },
  {
   "cell_type": "code",
   "execution_count": 55,
   "id": "205a79fb",
   "metadata": {},
   "outputs": [
    {
     "data": {
      "text/plain": [
       "array([[ 0,  1,  2,  3],\n",
       "       [ 4,  5,  6,  7],\n",
       "       [ 8,  9, 10, 11],\n",
       "       [12, 13, 14, 15],\n",
       "       [16, 17, 18, 19]])"
      ]
     },
     "execution_count": 55,
     "metadata": {},
     "output_type": "execute_result"
    }
   ],
   "source": [
    "s= np.arange(20).reshape(5,4)\n",
    "s\n"
   ]
  },
  {
   "cell_type": "code",
   "execution_count": null,
   "id": "708dbb01",
   "metadata": {},
   "outputs": [],
   "source": []
  },
  {
   "cell_type": "code",
   "execution_count": 56,
   "id": "1e86b3d2",
   "metadata": {},
   "outputs": [
    {
     "data": {
      "text/plain": [
       "array([[4, 5, 6, 7]])"
      ]
     },
     "execution_count": 56,
     "metadata": {},
     "output_type": "execute_result"
    }
   ],
   "source": [
    "s[ 1: 2, : ]"
   ]
  },
  {
   "cell_type": "code",
   "execution_count": 57,
   "id": "4b29ec6b",
   "metadata": {},
   "outputs": [
    {
     "data": {
      "text/plain": [
       "array([[ 9, 10],\n",
       "       [13, 14]])"
      ]
     },
     "execution_count": 57,
     "metadata": {},
     "output_type": "execute_result"
    }
   ],
   "source": [
    "s[2:4, 1:3]"
   ]
  },
  {
   "cell_type": "code",
   "execution_count": 60,
   "id": "3424daf4",
   "metadata": {},
   "outputs": [
    {
     "data": {
      "text/plain": [
       "array([[10, 11],\n",
       "       [14, 15],\n",
       "       [18, 19]])"
      ]
     },
     "execution_count": 60,
     "metadata": {},
     "output_type": "execute_result"
    }
   ],
   "source": [
    "s[2 : , 2: ]"
   ]
  },
  {
   "cell_type": "code",
   "execution_count": 63,
   "id": "260a36de",
   "metadata": {
    "scrolled": false
   },
   "outputs": [
    {
     "data": {
      "text/plain": [
       "array([[ 8,  9, 10],\n",
       "       [12, 13, 14],\n",
       "       [16, 17, 18]])"
      ]
     },
     "execution_count": 63,
     "metadata": {},
     "output_type": "execute_result"
    }
   ],
   "source": [
    "s[ 2 : , : -1]"
   ]
  },
  {
   "cell_type": "code",
   "execution_count": 64,
   "id": "a6d240e3",
   "metadata": {},
   "outputs": [
    {
     "data": {
      "text/plain": [
       "array([[12, 13],\n",
       "       [16, 17]])"
      ]
     },
     "execution_count": 64,
     "metadata": {},
     "output_type": "execute_result"
    }
   ],
   "source": [
    "s[3 : , : -2]"
   ]
  },
  {
   "cell_type": "markdown",
   "id": "2e351156",
   "metadata": {},
   "source": [
    "np.full((SHape),value to fill)"
   ]
  },
  {
   "cell_type": "code",
   "execution_count": 66,
   "id": "ad2bbd84",
   "metadata": {},
   "outputs": [
    {
     "data": {
      "text/plain": [
       "array([[786, 786],\n",
       "       [786, 786]])"
      ]
     },
     "execution_count": 66,
     "metadata": {},
     "output_type": "execute_result"
    }
   ],
   "source": [
    "np.full((2,2),786)"
   ]
  },
  {
   "cell_type": "markdown",
   "id": "46612a0e",
   "metadata": {},
   "source": [
    "matrix in NumPy"
   ]
  },
  {
   "cell_type": "code",
   "execution_count": 68,
   "id": "9112c6f1",
   "metadata": {},
   "outputs": [
    {
     "data": {
      "text/plain": [
       "array([[1., 0., 0., 0.],\n",
       "       [0., 1., 0., 0.],\n",
       "       [0., 0., 1., 0.]])"
      ]
     },
     "execution_count": 68,
     "metadata": {},
     "output_type": "execute_result"
    }
   ],
   "source": [
    "np.eye(3,4)"
   ]
  },
  {
   "cell_type": "code",
   "execution_count": 72,
   "id": "90599660",
   "metadata": {},
   "outputs": [
    {
     "data": {
      "text/plain": [
       "array([[1., 0., 0., 0., 0., 0., 0., 0., 0., 0.],\n",
       "       [0., 1., 0., 0., 0., 0., 0., 0., 0., 0.],\n",
       "       [0., 0., 1., 0., 0., 0., 0., 0., 0., 0.],\n",
       "       [0., 0., 0., 1., 0., 0., 0., 0., 0., 0.],\n",
       "       [0., 0., 0., 0., 1., 0., 0., 0., 0., 0.],\n",
       "       [0., 0., 0., 0., 0., 1., 0., 0., 0., 0.],\n",
       "       [0., 0., 0., 0., 0., 0., 1., 0., 0., 0.],\n",
       "       [0., 0., 0., 0., 0., 0., 0., 1., 0., 0.],\n",
       "       [0., 0., 0., 0., 0., 0., 0., 0., 1., 0.],\n",
       "       [0., 0., 0., 0., 0., 0., 0., 0., 0., 1.]])"
      ]
     },
     "execution_count": 72,
     "metadata": {},
     "output_type": "execute_result"
    }
   ],
   "source": [
    "np.eye(10,10)"
   ]
  },
  {
   "cell_type": "code",
   "execution_count": 81,
   "id": "26cc2794",
   "metadata": {},
   "outputs": [
    {
     "data": {
      "text/plain": [
       "array([ 10,  20,  30,  40,  50,  60,  70,  80,  90, 100])"
      ]
     },
     "execution_count": 81,
     "metadata": {},
     "output_type": "execute_result"
    }
   ],
   "source": [
    "np.linspace(10,100,10,dtype=int)  #ast number is included"
   ]
  },
  {
   "cell_type": "code",
   "execution_count": 80,
   "id": "b9431a44",
   "metadata": {
    "scrolled": true
   },
   "outputs": [
    {
     "data": {
      "text/plain": [
       "array([10, 20, 30, 40, 50, 60, 70, 80, 90])"
      ]
     },
     "execution_count": 80,
     "metadata": {},
     "output_type": "execute_result"
    }
   ],
   "source": [
    "np.arange(10,100,10,dtype=int)"
   ]
  },
  {
   "cell_type": "markdown",
   "id": "4210be12",
   "metadata": {},
   "source": [
    "Flattening a NumPy array"
   ]
  },
  {
   "cell_type": "markdown",
   "id": "c525ae5a",
   "metadata": {},
   "source": [
    "Sometimes when you have a multidimensional array and want to collapse it to a single-dimensional array, you can either use the flatten() method or the ravel() method:"
   ]
  },
  {
   "cell_type": "markdown",
   "id": "637907a3",
   "metadata": {},
   "source": [
    " any changes made to the array returned from ravel() will also be reflected in the original array while this will not be the case with flatten()."
   ]
  },
  {
   "cell_type": "code",
   "execution_count": 117,
   "id": "2d006544",
   "metadata": {},
   "outputs": [],
   "source": [
    "R= np.arange(30,40).reshape(2,5)"
   ]
  },
  {
   "cell_type": "code",
   "execution_count": 104,
   "id": "5f468aa0",
   "metadata": {},
   "outputs": [],
   "source": [
    "F=np.arange(10,20).reshape(2,5)"
   ]
  },
  {
   "cell_type": "code",
   "execution_count": 118,
   "id": "616c5f7f",
   "metadata": {},
   "outputs": [
    {
     "data": {
      "text/plain": [
       "array([30, 31, 32, 33, 34, 35, 36, 37, 38, 39])"
      ]
     },
     "execution_count": 118,
     "metadata": {},
     "output_type": "execute_result"
    }
   ],
   "source": [
    "ravel = R.ravel()\n",
    "ravel"
   ]
  },
  {
   "cell_type": "code",
   "execution_count": 119,
   "id": "a086ac0d",
   "metadata": {},
   "outputs": [
    {
     "data": {
      "text/plain": [
       "array([30, 31, 32, 33, 34, 35, 36, 37, 38, 39])"
      ]
     },
     "execution_count": 119,
     "metadata": {},
     "output_type": "execute_result"
    }
   ],
   "source": [
    "flatten = R.flatten()\n",
    "flatten"
   ]
  },
  {
   "cell_type": "markdown",
   "id": "8afc58e7",
   "metadata": {},
   "source": [
    "What is happening here is that flatten() creates a Deep copy of the ndarray while ravel() creates a Shallow copy of the ndarray."
   ]
  },
  {
   "cell_type": "markdown",
   "id": "dd0f5e42",
   "metadata": {},
   "source": [
    "Transpose of a NumPy array"
   ]
  },
  {
   "cell_type": "markdown",
   "id": "f58351dc",
   "metadata": {},
   "source": [
    "It takes the input array and swaps the rows with the column values, and the column values with the values of the rows"
   ]
  },
  {
   "cell_type": "code",
   "execution_count": 129,
   "id": "a9618f59",
   "metadata": {},
   "outputs": [
    {
     "data": {
      "text/plain": [
       "array([[1, 2, 3],\n",
       "       [4, 5, 6]])"
      ]
     },
     "execution_count": 129,
     "metadata": {},
     "output_type": "execute_result"
    }
   ],
   "source": [
    "z=np.array([[1,2,3],[4,5,6]])\n",
    "\n",
    "x=np.transpose(z)\n",
    "z"
   ]
  },
  {
   "cell_type": "code",
   "execution_count": 130,
   "id": "815b78e6",
   "metadata": {},
   "outputs": [
    {
     "data": {
      "text/plain": [
       "array([[1, 4],\n",
       "       [2, 5],\n",
       "       [3, 6]])"
      ]
     },
     "execution_count": 130,
     "metadata": {},
     "output_type": "execute_result"
    }
   ],
   "source": [
    "x"
   ]
  },
  {
   "cell_type": "code",
   "execution_count": 131,
   "id": "10d3840d",
   "metadata": {},
   "outputs": [
    {
     "data": {
      "text/plain": [
       "array([[1, 2, 3],\n",
       "       [4, 5, 6]])"
      ]
     },
     "execution_count": 131,
     "metadata": {},
     "output_type": "execute_result"
    }
   ],
   "source": [
    "np.transpose(x)"
   ]
  },
  {
   "cell_type": "markdown",
   "id": "51a50b24",
   "metadata": {},
   "source": [
    "Expanding a NumPy array"
   ]
  },
  {
   "cell_type": "code",
   "execution_count": 149,
   "id": "e214ab62",
   "metadata": {},
   "outputs": [
    {
     "name": "stdout",
     "output_type": "stream",
     "text": [
      "[[10 11 12 13 14]\n",
      " [15 16 17 18 19]]\n",
      "[[30 31 32 33 34]\n",
      " [35 36 37 38 39]]\n"
     ]
    }
   ],
   "source": [
    "a1= np.arange(10,20).reshape(2,5)\n",
    "b1= np.arange(30,40).reshape(2,5)\n",
    "print(a1)\n",
    "print(b1)"
   ]
  },
  {
   "cell_type": "code",
   "execution_count": 145,
   "id": "c94a8605",
   "metadata": {
    "scrolled": true
   },
   "outputs": [
    {
     "data": {
      "text/plain": [
       "array([[10],\n",
       "       [11],\n",
       "       [12],\n",
       "       [13],\n",
       "       [14],\n",
       "       [15],\n",
       "       [16],\n",
       "       [17],\n",
       "       [18],\n",
       "       [19],\n",
       "       [20]])"
      ]
     },
     "execution_count": 145,
     "metadata": {},
     "output_type": "execute_result"
    }
   ],
   "source": [
    "exp= np.expand_dims(a1,axis=1)\n",
    "exp"
   ]
  },
  {
   "cell_type": "code",
   "execution_count": 155,
   "id": "c73a48fc",
   "metadata": {},
   "outputs": [
    {
     "data": {
      "text/plain": [
       "(2, 5)"
      ]
     },
     "execution_count": 155,
     "metadata": {},
     "output_type": "execute_result"
    }
   ],
   "source": [
    "exp = np.expand_dims(b1,axis=1)\n",
    "exp\n",
    "a1.shape"
   ]
  },
  {
   "cell_type": "markdown",
   "id": "d2e6326f",
   "metadata": {},
   "source": [
    "Flip\n"
   ]
  },
  {
   "cell_type": "code",
   "execution_count": 171,
   "id": "de45de8d",
   "metadata": {},
   "outputs": [
    {
     "data": {
      "text/plain": [
       "array([[1, 2, 3, 4, 5, 6],\n",
       "       [9, 7, 6, 5, 3, 2]])"
      ]
     },
     "execution_count": 171,
     "metadata": {},
     "output_type": "execute_result"
    }
   ],
   "source": [
    "lst =np.array([[ 1,2,3,4,5,6],[9,7,6,5,3,2]] )\n",
    "lst"
   ]
  },
  {
   "cell_type": "code",
   "execution_count": 175,
   "id": "35754cbf",
   "metadata": {
    "scrolled": true
   },
   "outputs": [
    {
     "data": {
      "text/plain": [
       "array([[6, 5, 4, 3, 2, 1],\n",
       "       [2, 3, 5, 6, 7, 9]])"
      ]
     },
     "execution_count": 175,
     "metadata": {},
     "output_type": "execute_result"
    }
   ],
   "source": [
    "np.flip(lst , axis = 1)"
   ]
  },
  {
   "cell_type": "markdown",
   "id": "52db35ca",
   "metadata": {},
   "source": [
    "Broadcasting in NumPy arrays \n"
   ]
  },
  {
   "cell_type": "code",
   "execution_count": 181,
   "id": "190b26c1",
   "metadata": {},
   "outputs": [
    {
     "name": "stdout",
     "output_type": "stream",
     "text": [
      "[10 11 12 13 14 15 16 17 18 19]\n",
      "[10 11 12 13 14 15 16 17 18 19]\n",
      "addition [20 22 24 26 28 30 32 34 36 38]\n"
     ]
    }
   ],
   "source": [
    "s=np.arange(10,20) \n",
    "s1= np.arange(10,20)\n",
    "print(s)\n",
    "print(s1)\n",
    "print(\"addition\",s1+s)"
   ]
  },
  {
   "cell_type": "code",
   "execution_count": 184,
   "id": "1d0260cc",
   "metadata": {},
   "outputs": [
    {
     "name": "stdout",
     "output_type": "stream",
     "text": [
      "[100 121 144 169 196 225 256 289 324 361]\n"
     ]
    }
   ],
   "source": [
    "print(s1*s)"
   ]
  },
  {
   "cell_type": "code",
   "execution_count": 186,
   "id": "56659a3c",
   "metadata": {},
   "outputs": [
    {
     "name": "stdout",
     "output_type": "stream",
     "text": [
      "2185\n"
     ]
    }
   ],
   "source": [
    "print(np.dot(s,s1))"
   ]
  },
  {
   "cell_type": "code",
   "execution_count": 191,
   "id": "7db821c9",
   "metadata": {
    "scrolled": true
   },
   "outputs": [
    {
     "name": "stdout",
     "output_type": "stream",
     "text": [
      "14.5\n",
      "14.5\n",
      "8.25\n",
      "2.8722813232690143\n"
     ]
    }
   ],
   "source": [
    "print(np.mean(s))\n",
    "print(np.median(s))\n",
    "print(np.var(s))\n",
    "print(np.std(s))\n",
    "\n",
    "\n",
    "\n",
    "b="
   ]
  },
  {
   "cell_type": "code",
   "execution_count": 192,
   "id": "c2dda27b",
   "metadata": {
    "scrolled": true
   },
   "outputs": [
    {
     "data": {
      "text/plain": [
       "array([10, 11, 12, 13, 14, 15, 16, 17, 18, 19, 10, 11, 12, 13, 14, 15, 16,\n",
       "       17, 18, 19])"
      ]
     },
     "execution_count": 192,
     "metadata": {},
     "output_type": "execute_result"
    }
   ],
   "source": [
    "np.concatenate((s,s1))"
   ]
  },
  {
   "cell_type": "markdown",
   "id": "4e2259fa",
   "metadata": {},
   "source": [
    "Creating a list and then converting it into an array of 1 dimension.\n"
   ]
  },
  {
   "cell_type": "code",
   "execution_count": 194,
   "id": "1b176b78",
   "metadata": {},
   "outputs": [
    {
     "data": {
      "text/plain": [
       "array([1, 2, 3, 4, 5, 6])"
      ]
     },
     "execution_count": 194,
     "metadata": {},
     "output_type": "execute_result"
    }
   ],
   "source": [
    "listy=[1,2,3,4,5,6]\n",
    "np.array(listy)"
   ]
  },
  {
   "cell_type": "code",
   "execution_count": 197,
   "id": "e4dd5efa",
   "metadata": {},
   "outputs": [
    {
     "data": {
      "text/plain": [
       "array([1.        , 1.41421356, 1.73205081, 2.        , 2.23606798,\n",
       "       2.44948974])"
      ]
     },
     "execution_count": 197,
     "metadata": {},
     "output_type": "execute_result"
    }
   ],
   "source": [
    "np.sqrt(listy)"
   ]
  },
  {
   "cell_type": "code",
   "execution_count": 198,
   "id": "c4eb057c",
   "metadata": {},
   "outputs": [
    {
     "data": {
      "text/plain": [
       "array([ 0.84147098,  0.90929743,  0.14112001, -0.7568025 , -0.95892427,\n",
       "       -0.2794155 ])"
      ]
     },
     "execution_count": 198,
     "metadata": {},
     "output_type": "execute_result"
    }
   ],
   "source": [
    "np.sin(listy)"
   ]
  }
 ],
 "metadata": {
  "kernelspec": {
   "display_name": "Python 3 (ipykernel)",
   "language": "python",
   "name": "python3"
  },
  "language_info": {
   "codemirror_mode": {
    "name": "ipython",
    "version": 3
   },
   "file_extension": ".py",
   "mimetype": "text/x-python",
   "name": "python",
   "nbconvert_exporter": "python",
   "pygments_lexer": "ipython3",
   "version": "3.9.13"
  }
 },
 "nbformat": 4,
 "nbformat_minor": 5
}
